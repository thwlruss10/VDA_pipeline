{
  "cells": [
    {
      "cell_type": "markdown",
      "metadata": {
        "id": "view-in-github",
        "colab_type": "text"
      },
      "source": [
        "<a href=\"https://colab.research.google.com/github/thwlruss10/VDA_pipeline/blob/main/GIT_DIP_Final_Test2.ipynb\" target=\"_parent\"><img src=\"https://colab.research.google.com/assets/colab-badge.svg\" alt=\"Open In Colab\"/></a>"
      ]
    },
    {
      "cell_type": "code",
      "execution_count": null,
      "metadata": {
        "id": "uyuYQrvr0Fn5"
      },
      "outputs": [],
      "source": [
        "import torch\n",
        "print(\"CUDA Available:\", torch.cuda.is_available())\n",
        "print(\"CUDA Device:\", torch.cuda.get_device_name(0) if torch.cuda.is_available() else \"None\")\n"
      ]
    },
    {
      "cell_type": "code",
      "execution_count": null,
      "metadata": {
        "id": "KS5AhIBvYOAK"
      },
      "outputs": [],
      "source": [
        "!pip install transformers datasets evaluate gradio --quiet"
      ]
    },
    {
      "cell_type": "code",
      "execution_count": null,
      "metadata": {
        "id": "mUp8v7VCYO-y"
      },
      "outputs": [],
      "source": [
        "from transformers import BlipProcessor, BlipForConditionalGeneration\n",
        "from transformers import ViltProcessor, ViltForQuestionAnswering\n",
        "from PIL import Image\n",
        "from IPython.display import display\n",
        "import torch\n",
        "from evaluate import load\n",
        "import gradio as gr"
      ]
    },
    {
      "cell_type": "code",
      "execution_count": null,
      "metadata": {
        "id": "6xXIVJHRYO8b"
      },
      "outputs": [],
      "source": [
        "# Captioning model: BLIP\n",
        "caption_processor = BlipProcessor.from_pretrained(\"Salesforce/blip-image-captioning-base\")\n",
        "caption_model = BlipForConditionalGeneration.from_pretrained(\"Salesforce/blip-image-captioning-base\")\n",
        "\n",
        "# VQA model: ViLT (you may already have this in your notebook)\n",
        "vqa_processor = ViltProcessor.from_pretrained(\"dandelin/vilt-b32-finetuned-vqa\")\n",
        "vqa_model = ViltForQuestionAnswering.from_pretrained(\"dandelin/vilt-b32-finetuned-vqa\")"
      ]
    },
    {
      "cell_type": "code",
      "execution_count": null,
      "metadata": {
        "id": "eBE2cQ4TYO6F"
      },
      "outputs": [],
      "source": [
        "def generate_caption(image):\n",
        "    inputs = caption_processor(images=image, return_tensors=\"pt\")\n",
        "    out = caption_model.generate(**inputs)\n",
        "    caption = caption_processor.decode(out[0], skip_special_tokens=True)\n",
        "    return caption\n",
        "\n",
        "def answer_question(image, question):\n",
        "    encoding = vqa_processor(image, question, return_tensors=\"pt\")\n",
        "    outputs = vqa_model(**encoding)\n",
        "    logits = outputs.logits\n",
        "    predicted_idx = logits.argmax(-1).item()\n",
        "    return vqa_model.config.id2label[predicted_idx]"
      ]
    },
    {
      "cell_type": "code",
      "source": [
        "from google.colab import files\n",
        "import ipywidgets as widgets\n",
        "from IPython.display import display, clear_output\n",
        "\n",
        "# Step 1: Upload Image\n",
        "print(\"Please upload an image\")\n",
        "uploaded = files.upload()\n",
        "img_path = list(uploaded.keys())[0]\n",
        "image = Image.open(img_path).convert(\"RGB\")\n",
        "display(image)\n",
        "\n",
        "# Step 2: Auto-generate caption\n",
        "caption = generate_caption(image)\n",
        "print(f\"\\n📝 Generated Caption: {caption}\")\n",
        "\n",
        "# Step 3: Ask a question\n",
        "question_widget = widgets.Text(\n",
        "    description='Ask:',\n",
        "    placeholder='e.g., What is the person doing?',\n",
        "    layout=widgets.Layout(width='80%')\n",
        ")\n",
        "\n",
        "output = widgets.Output()\n",
        "\n",
        "def on_submit(change):\n",
        "    question = change.new\n",
        "    answer = answer_question(image, question)\n",
        "    with output:\n",
        "        clear_output()\n",
        "        print(f\"\\n🤖 Answer: {answer}\")\n",
        "\n",
        "question_widget.observe(on_submit, names='value')\n",
        "\n",
        "print(\"\\nType your question about the image below and press Enter:\")\n",
        "display(question_widget, output)\n"
      ],
      "metadata": {
        "id": "6cC5oi2Su1iT"
      },
      "execution_count": null,
      "outputs": []
    },
    {
      "cell_type": "code",
      "execution_count": null,
      "metadata": {
        "id": "C-9wVFq2YOzn"
      },
      "outputs": [],
      "source": []
    },
    {
      "cell_type": "code",
      "execution_count": null,
      "metadata": {
        "id": "sjPnjt9qYOxW"
      },
      "outputs": [],
      "source": []
    },
    {
      "cell_type": "code",
      "execution_count": null,
      "metadata": {
        "id": "WlG_yYtTYOvV"
      },
      "outputs": [],
      "source": []
    }
  ],
  "metadata": {
    "colab": {
      "provenance": [],
      "include_colab_link": true
    },
    "kernelspec": {
      "display_name": "Python 3",
      "name": "python3"
    },
    "language_info": {
      "name": "python"
    }
  },
  "nbformat": 4,
  "nbformat_minor": 0
}