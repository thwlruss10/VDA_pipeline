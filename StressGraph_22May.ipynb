{
  "nbformat": 4,
  "nbformat_minor": 0,
  "metadata": {
    "colab": {
      "provenance": [],
      "authorship_tag": "ABX9TyPuP01q2snWsQhx2dx/EIZE",
      "include_colab_link": true
    },
    "kernelspec": {
      "name": "python3",
      "display_name": "Python 3"
    },
    "language_info": {
      "name": "python"
    }
  },
  "cells": [
    {
      "cell_type": "markdown",
      "metadata": {
        "id": "view-in-github",
        "colab_type": "text"
      },
      "source": [
        "<a href=\"https://colab.research.google.com/github/thwlruss10/VDA_pipeline/blob/main/StressGraph_22May.ipynb\" target=\"_parent\"><img src=\"https://colab.research.google.com/assets/colab-badge.svg\" alt=\"Open In Colab\"/></a>"
      ]
    },
    {
      "cell_type": "code",
      "execution_count": null,
      "metadata": {
        "colab": {
          "base_uri": "https://localhost:8080/"
        },
        "id": "ZpYK2jX0RiBq",
        "outputId": "1d64a749-1deb-4735-8941-4cb12691149a"
      },
      "outputs": [
        {
          "output_type": "stream",
          "name": "stdout",
          "text": [
            "Collecting torch_geometric\n",
            "  Downloading torch_geometric-2.6.1-py3-none-any.whl.metadata (63 kB)\n",
            "\u001b[?25l     \u001b[90m━━━━━━━━━━━━━━━━━━━━━━━━━━━━━━━━━━━━━━━━\u001b[0m \u001b[32m0.0/63.1 kB\u001b[0m \u001b[31m?\u001b[0m eta \u001b[36m-:--:--\u001b[0m\r\u001b[2K     \u001b[91m━━━━━━━━━━━━━━━━━━━━━━━━━━━━━━━━━━━━━━\u001b[0m\u001b[91m╸\u001b[0m\u001b[90m━\u001b[0m \u001b[32m61.4/63.1 kB\u001b[0m \u001b[31m60.0 MB/s\u001b[0m eta \u001b[36m0:00:01\u001b[0m\r\u001b[2K     \u001b[90m━━━━━━━━━━━━━━━━━━━━━━━━━━━━━━━━━━━━━━━━\u001b[0m \u001b[32m63.1/63.1 kB\u001b[0m \u001b[31m1.7 MB/s\u001b[0m eta \u001b[36m0:00:00\u001b[0m\n",
            "\u001b[?25hRequirement already satisfied: aiohttp in /usr/local/lib/python3.11/dist-packages (from torch_geometric) (3.11.15)\n",
            "Requirement already satisfied: fsspec in /usr/local/lib/python3.11/dist-packages (from torch_geometric) (2025.3.2)\n",
            "Requirement already satisfied: jinja2 in /usr/local/lib/python3.11/dist-packages (from torch_geometric) (3.1.6)\n",
            "Requirement already satisfied: numpy in /usr/local/lib/python3.11/dist-packages (from torch_geometric) (2.0.2)\n",
            "Requirement already satisfied: psutil>=5.8.0 in /usr/local/lib/python3.11/dist-packages (from torch_geometric) (5.9.5)\n",
            "Requirement already satisfied: pyparsing in /usr/local/lib/python3.11/dist-packages (from torch_geometric) (3.2.3)\n",
            "Requirement already satisfied: requests in /usr/local/lib/python3.11/dist-packages (from torch_geometric) (2.32.3)\n",
            "Requirement already satisfied: tqdm in /usr/local/lib/python3.11/dist-packages (from torch_geometric) (4.67.1)\n",
            "Requirement already satisfied: aiohappyeyeballs>=2.3.0 in /usr/local/lib/python3.11/dist-packages (from aiohttp->torch_geometric) (2.6.1)\n",
            "Requirement already satisfied: aiosignal>=1.1.2 in /usr/local/lib/python3.11/dist-packages (from aiohttp->torch_geometric) (1.3.2)\n",
            "Requirement already satisfied: attrs>=17.3.0 in /usr/local/lib/python3.11/dist-packages (from aiohttp->torch_geometric) (25.3.0)\n",
            "Requirement already satisfied: frozenlist>=1.1.1 in /usr/local/lib/python3.11/dist-packages (from aiohttp->torch_geometric) (1.6.0)\n",
            "Requirement already satisfied: multidict<7.0,>=4.5 in /usr/local/lib/python3.11/dist-packages (from aiohttp->torch_geometric) (6.4.3)\n",
            "Requirement already satisfied: propcache>=0.2.0 in /usr/local/lib/python3.11/dist-packages (from aiohttp->torch_geometric) (0.3.1)\n",
            "Requirement already satisfied: yarl<2.0,>=1.17.0 in /usr/local/lib/python3.11/dist-packages (from aiohttp->torch_geometric) (1.20.0)\n",
            "Requirement already satisfied: MarkupSafe>=2.0 in /usr/local/lib/python3.11/dist-packages (from jinja2->torch_geometric) (3.0.2)\n",
            "Requirement already satisfied: charset-normalizer<4,>=2 in /usr/local/lib/python3.11/dist-packages (from requests->torch_geometric) (3.4.2)\n",
            "Requirement already satisfied: idna<4,>=2.5 in /usr/local/lib/python3.11/dist-packages (from requests->torch_geometric) (3.10)\n",
            "Requirement already satisfied: urllib3<3,>=1.21.1 in /usr/local/lib/python3.11/dist-packages (from requests->torch_geometric) (2.4.0)\n",
            "Requirement already satisfied: certifi>=2017.4.17 in /usr/local/lib/python3.11/dist-packages (from requests->torch_geometric) (2025.4.26)\n",
            "Downloading torch_geometric-2.6.1-py3-none-any.whl (1.1 MB)\n",
            "\u001b[2K   \u001b[90m━━━━━━━━━━━━━━━━━━━━━━━━━━━━━━━━━━━━━━━━\u001b[0m \u001b[32m1.1/1.1 MB\u001b[0m \u001b[31m16.7 MB/s\u001b[0m eta \u001b[36m0:00:00\u001b[0m\n",
            "\u001b[?25hInstalling collected packages: torch_geometric\n",
            "Successfully installed torch_geometric-2.6.1\n"
          ]
        }
      ],
      "source": [
        "! pip install torch_geometric\n"
      ]
    },
    {
      "cell_type": "code",
      "source": [
        "%load_ext autoreload\n",
        "%autoreload 2\n",
        "\n",
        "import torch\n",
        "import numpy as np\n",
        "import matplotlib.pyplot as plt\n",
        "import numpy as np\n",
        "from IPython.display import display, clear_output\n",
        "import time\n",
        "import networkx as nx\n",
        "import matplotlib.pyplot as plt\n",
        "from rl4co.envs import FJSPEnv\n",
        "from rl4co.models.zoo.l2d import L2DModel\n",
        "from rl4co.models.zoo.l2d.policy import L2DPolicy\n",
        "from rl4co.models.zoo.l2d.decoder import L2DDecoder\n",
        "from rl4co.models.nn.graph.hgnn import HetGNNEncoder\n",
        "from rl4co.utils.trainer import RL4COTrainer"
      ],
      "metadata": {
        "colab": {
          "base_uri": "https://localhost:8080/",
          "height": 384
        },
        "id": "tRl4BD_zRkiA",
        "outputId": "572ec8f1-228d-4e21-b9ff-117886af80a3"
      },
      "execution_count": null,
      "outputs": [
        {
          "output_type": "error",
          "ename": "ModuleNotFoundError",
          "evalue": "No module named 'rl4co'",
          "traceback": [
            "\u001b[0;31m---------------------------------------------------------------------------\u001b[0m",
            "\u001b[0;31mModuleNotFoundError\u001b[0m                       Traceback (most recent call last)",
            "\u001b[0;32m<ipython-input-2-1b004b547e1c>\u001b[0m in \u001b[0;36m<cell line: 0>\u001b[0;34m()\u001b[0m\n\u001b[1;32m     10\u001b[0m \u001b[0;32mimport\u001b[0m \u001b[0mnetworkx\u001b[0m \u001b[0;32mas\u001b[0m \u001b[0mnx\u001b[0m\u001b[0;34m\u001b[0m\u001b[0;34m\u001b[0m\u001b[0m\n\u001b[1;32m     11\u001b[0m \u001b[0;32mimport\u001b[0m \u001b[0mmatplotlib\u001b[0m\u001b[0;34m.\u001b[0m\u001b[0mpyplot\u001b[0m \u001b[0;32mas\u001b[0m \u001b[0mplt\u001b[0m\u001b[0;34m\u001b[0m\u001b[0;34m\u001b[0m\u001b[0m\n\u001b[0;32m---> 12\u001b[0;31m \u001b[0;32mfrom\u001b[0m \u001b[0mrl4co\u001b[0m\u001b[0;34m.\u001b[0m\u001b[0menvs\u001b[0m \u001b[0;32mimport\u001b[0m \u001b[0mFJSPEnv\u001b[0m\u001b[0;34m\u001b[0m\u001b[0;34m\u001b[0m\u001b[0m\n\u001b[0m\u001b[1;32m     13\u001b[0m \u001b[0;32mfrom\u001b[0m \u001b[0mrl4co\u001b[0m\u001b[0;34m.\u001b[0m\u001b[0mmodels\u001b[0m\u001b[0;34m.\u001b[0m\u001b[0mzoo\u001b[0m\u001b[0;34m.\u001b[0m\u001b[0ml2d\u001b[0m \u001b[0;32mimport\u001b[0m \u001b[0mL2DModel\u001b[0m\u001b[0;34m\u001b[0m\u001b[0;34m\u001b[0m\u001b[0m\n\u001b[1;32m     14\u001b[0m \u001b[0;32mfrom\u001b[0m \u001b[0mrl4co\u001b[0m\u001b[0;34m.\u001b[0m\u001b[0mmodels\u001b[0m\u001b[0;34m.\u001b[0m\u001b[0mzoo\u001b[0m\u001b[0;34m.\u001b[0m\u001b[0ml2d\u001b[0m\u001b[0;34m.\u001b[0m\u001b[0mpolicy\u001b[0m \u001b[0;32mimport\u001b[0m \u001b[0mL2DPolicy\u001b[0m\u001b[0;34m\u001b[0m\u001b[0;34m\u001b[0m\u001b[0m\n",
            "\u001b[0;31mModuleNotFoundError\u001b[0m: No module named 'rl4co'",
            "",
            "\u001b[0;31m---------------------------------------------------------------------------\u001b[0;32m\nNOTE: If your import is failing due to a missing package, you can\nmanually install dependencies using either !pip or !apt.\n\nTo view examples of installing some common dependencies, click the\n\"Open Examples\" button below.\n\u001b[0;31m---------------------------------------------------------------------------\u001b[0m\n"
          ],
          "errorDetails": {
            "actions": [
              {
                "action": "open_url",
                "actionText": "Open Examples",
                "url": "/notebooks/snippets/importing_libraries.ipynb"
              }
            ]
          }
        }
      ]
    },
    {
      "cell_type": "code",
      "source": [
        "generator_params = {\n",
        "  \"num_jobs\": 5,  # the total number of jobs\n",
        "  \"num_machines\": 5,  # the total number of machines that can process operations\n",
        "  \"min_ops_per_job\": 1,  # minimum number of operatios per job\n",
        "  \"max_ops_per_job\": 2,  # maximum number of operations per job\n",
        "  \"min_processing_time\": 1,  # the minimum time required for a machine to process an operation\n",
        "  \"max_processing_time\": 20,  # the maximum time required for a machine to process an operation\n",
        "  \"min_eligible_ma_per_op\": 1,  # the minimum number of machines capable to process an operation\n",
        "  \"max_eligible_ma_per_op\": 2,  # the maximum number of machines capable to process an operation\n",
        "}"
      ],
      "metadata": {
        "id": "r0-3LZ9VRng-"
      },
      "execution_count": null,
      "outputs": []
    },
    {
      "cell_type": "code",
      "source": [
        "env = FJSPEnv(generator_params=generator_params)\n",
        "td = env.reset(batch_size=[1])"
      ],
      "metadata": {
        "id": "Cti5jOPSRne3"
      },
      "execution_count": null,
      "outputs": []
    },
    {
      "cell_type": "code",
      "source": [
        "# Create a bipartite graph from the adjacency matrix\n",
        "G = nx.Graph()\n",
        "proc_times = td[\"proc_times\"].squeeze(0)\n",
        "job_ops_adj = td[\"job_ops_adj\"].squeeze(0)\n",
        "order = td[\"ops_sequence_order\"].squeeze(0) + 1\n",
        "\n",
        "num_machines, num_operations = proc_times.shape\n",
        "num_jobs = job_ops_adj.size(0)\n",
        "\n",
        "jobs = [f\"j{i+1}\" for i in range(num_jobs)]\n",
        "machines = [f\"m{i+1}\" for i in range(num_machines)]\n",
        "operations = [f\"o{i+1}\" for i in range(num_operations)]\n",
        "\n",
        "# Add nodes from each set\n",
        "G.add_nodes_from(machines, bipartite=0)\n",
        "G.add_nodes_from(operations, bipartite=1)\n",
        "G.add_nodes_from(jobs, bipartite=2)\n",
        "\n",
        "# Add edges based on the adjacency matrix\n",
        "for i in range(num_machines):\n",
        "    for j in range(num_operations):\n",
        "        edge_weigth = proc_times[i][j]\n",
        "        if edge_weigth != 0:\n",
        "            G.add_edge(f\"m{i+1}\", f\"o{j+1}\", weight=edge_weigth)\n",
        "\n",
        "\n",
        "# Add edges based on the adjacency matrix\n",
        "for i in range(num_jobs):\n",
        "    for j in range(num_operations):\n",
        "        edge_weigth = job_ops_adj[i][j]\n",
        "        if edge_weigth != 0:\n",
        "            G.add_edge(f\"j{i+1}\", f\"o{j+1}\", weight=3, label=order[j])\n",
        "\n",
        "\n",
        "widths = [x / 3 for x in nx.get_edge_attributes(G, 'weight').values()]\n",
        "\n",
        "plt.figure(figsize=(10,6))\n",
        "# Plot the graph\n",
        "\n",
        "machines = [n for n, d in G.nodes(data=True) if d['bipartite'] == 0]\n",
        "operations = [n for n, d in G.nodes(data=True) if d['bipartite'] == 1]\n",
        "jobs = [n for n, d in G.nodes(data=True) if d['bipartite'] == 2]\n",
        "\n",
        "pos = {}\n",
        "pos.update((node, (1, index)) for index, node in enumerate(machines))\n",
        "pos.update((node, (2, index)) for index, node in enumerate(operations))\n",
        "pos.update((node, (3, index)) for index, node in enumerate(jobs))\n",
        "\n",
        "edge_labels = {(u, v): d['label'].item() for u, v, d in G.edges(data=True) if d.get(\"label\") is not None}\n",
        "nx.draw_networkx_edge_labels(G, {k: (v[0]+.12, v[1]) for k,v in pos.items()}, edge_labels=edge_labels, rotate=False)\n",
        "\n",
        "nx.draw_networkx_nodes(G, pos, nodelist=machines, node_color='b', label=\"Machine\")\n",
        "nx.draw_networkx_nodes(G, pos, nodelist=operations, node_color='r', label=\"Operation\")\n",
        "nx.draw_networkx_nodes(G, pos, nodelist=jobs, node_color='y', label=\"jobs\")\n",
        "nx.draw_networkx_edges(G, pos, width=widths, alpha=0.6)\n",
        "\n",
        "plt.title('Visualization of the FJSP')\n",
        "plt.legend(bbox_to_anchor=(.95, 1.05))\n",
        "plt.axis('off')\n",
        "plt.show()"
      ],
      "metadata": {
        "id": "igJRuI34RncA"
      },
      "execution_count": null,
      "outputs": []
    },
    {
      "cell_type": "code",
      "source": [
        "import ortools"
      ],
      "metadata": {
        "id": "92e8XlpfRnWo",
        "colab": {
          "base_uri": "https://localhost:8080/",
          "height": 315
        },
        "outputId": "6ac9bb94-9de7-4a46-a74f-958d203ae279"
      },
      "execution_count": 3,
      "outputs": [
        {
          "output_type": "error",
          "ename": "ModuleNotFoundError",
          "evalue": "No module named 'ortools'",
          "traceback": [
            "\u001b[0;31m---------------------------------------------------------------------------\u001b[0m",
            "\u001b[0;31mModuleNotFoundError\u001b[0m                       Traceback (most recent call last)",
            "\u001b[0;32m<ipython-input-3-0c521df57bb5>\u001b[0m in \u001b[0;36m<cell line: 0>\u001b[0;34m()\u001b[0m\n\u001b[0;32m----> 1\u001b[0;31m \u001b[0;32mimport\u001b[0m \u001b[0mortools\u001b[0m\u001b[0;34m\u001b[0m\u001b[0;34m\u001b[0m\u001b[0m\n\u001b[0m",
            "\u001b[0;31mModuleNotFoundError\u001b[0m: No module named 'ortools'",
            "",
            "\u001b[0;31m---------------------------------------------------------------------------\u001b[0;32m\nNOTE: If your import is failing due to a missing package, you can\nmanually install dependencies using either !pip or !apt.\n\nTo view examples of installing some common dependencies, click the\n\"Open Examples\" button below.\n\u001b[0;31m---------------------------------------------------------------------------\u001b[0m\n"
          ],
          "errorDetails": {
            "actions": [
              {
                "action": "open_url",
                "actionText": "Open Examples",
                "url": "/notebooks/snippets/importing_libraries.ipynb"
              }
            ]
          }
        }
      ]
    },
    {
      "cell_type": "code",
      "source": [
        "pip install ortools"
      ],
      "metadata": {
        "id": "NsfbRlv-RnUm",
        "colab": {
          "base_uri": "https://localhost:8080/"
        },
        "outputId": "4afb9ec6-eab3-453b-d5e6-cd9da672585c"
      },
      "execution_count": 5,
      "outputs": [
        {
          "output_type": "stream",
          "name": "stdout",
          "text": [
            "Collecting ortools\n",
            "  Downloading ortools-9.12.4544-cp311-cp311-manylinux_2_27_x86_64.manylinux_2_28_x86_64.whl.metadata (3.3 kB)\n",
            "Collecting absl-py>=2.0.0 (from ortools)\n",
            "  Downloading absl_py-2.2.2-py3-none-any.whl.metadata (2.6 kB)\n",
            "Requirement already satisfied: numpy>=1.13.3 in /usr/local/lib/python3.11/dist-packages (from ortools) (2.0.2)\n",
            "Requirement already satisfied: pandas>=2.0.0 in /usr/local/lib/python3.11/dist-packages (from ortools) (2.2.2)\n",
            "Requirement already satisfied: protobuf<5.30,>=5.29.3 in /usr/local/lib/python3.11/dist-packages (from ortools) (5.29.4)\n",
            "Requirement already satisfied: immutabledict>=3.0.0 in /usr/local/lib/python3.11/dist-packages (from ortools) (4.2.1)\n",
            "Requirement already satisfied: python-dateutil>=2.8.2 in /usr/local/lib/python3.11/dist-packages (from pandas>=2.0.0->ortools) (2.9.0.post0)\n",
            "Requirement already satisfied: pytz>=2020.1 in /usr/local/lib/python3.11/dist-packages (from pandas>=2.0.0->ortools) (2025.2)\n",
            "Requirement already satisfied: tzdata>=2022.7 in /usr/local/lib/python3.11/dist-packages (from pandas>=2.0.0->ortools) (2025.2)\n",
            "Requirement already satisfied: six>=1.5 in /usr/local/lib/python3.11/dist-packages (from python-dateutil>=2.8.2->pandas>=2.0.0->ortools) (1.17.0)\n",
            "Downloading ortools-9.12.4544-cp311-cp311-manylinux_2_27_x86_64.manylinux_2_28_x86_64.whl (24.9 MB)\n",
            "\u001b[2K   \u001b[90m━━━━━━━━━━━━━━━━━━━━━━━━━━━━━━━━━━━━━━━━\u001b[0m \u001b[32m24.9/24.9 MB\u001b[0m \u001b[31m56.1 MB/s\u001b[0m eta \u001b[36m0:00:00\u001b[0m\n",
            "\u001b[?25hDownloading absl_py-2.2.2-py3-none-any.whl (135 kB)\n",
            "\u001b[2K   \u001b[90m━━━━━━━━━━━━━━━━━━━━━━━━━━━━━━━━━━━━━━━━\u001b[0m \u001b[32m135.6/135.6 kB\u001b[0m \u001b[31m8.9 MB/s\u001b[0m eta \u001b[36m0:00:00\u001b[0m\n",
            "\u001b[?25hInstalling collected packages: absl-py, ortools\n",
            "  Attempting uninstall: absl-py\n",
            "    Found existing installation: absl-py 1.4.0\n",
            "    Uninstalling absl-py-1.4.0:\n",
            "      Successfully uninstalled absl-py-1.4.0\n",
            "Successfully installed absl-py-2.2.2 ortools-9.12.4544\n"
          ]
        }
      ]
    },
    {
      "cell_type": "code",
      "source": [
        "NUM_FRAMES = 10\n",
        "STAGES = [\"Analysis\", \"Checking\", \"IFC\"]\n",
        "NUM_ANALYSTS = 3\n",
        "NUM_CHECKERS = 1  # Checker is a distinct role\n"
      ],
      "metadata": {
        "id": "wZL2ubyf2jv8"
      },
      "execution_count": 8,
      "outputs": []
    },
    {
      "cell_type": "code",
      "source": [
        "from ortools.sat.python import cp_model\n",
        "\n",
        "model = cp_model.CpModel()\n"
      ],
      "metadata": {
        "id": "w6scKwQ5RnSH"
      },
      "execution_count": 6,
      "outputs": []
    },
    {
      "cell_type": "code",
      "source": [
        "TASK_DURATION = {\n",
        "    \"Analysis\": 2,\n",
        "    \"Checking\": 1,\n",
        "    \"IFC\": 1,\n",
        "}\n",
        "\n",
        "tasks = {}  # (frame_id, stage) → Task Info\n",
        "all_intervals = []  # To collect for NoOverlap\n",
        "\n",
        "for frame_id in range(NUM_FRAMES):\n",
        "    for stage in STAGES:\n",
        "        suffix = f\"_f{frame_id}_{stage}\"\n",
        "        duration = TASK_DURATION[stage]\n",
        "        start = model.NewIntVar(0, 100, \"start\" + suffix)\n",
        "        end = model.NewIntVar(0, 100, \"end\" + suffix)\n",
        "        interval = model.NewIntervalVar(start, duration, end, \"interval\" + suffix)\n",
        "        tasks[(frame_id, stage)] = (start, end, interval)\n"
      ],
      "metadata": {
        "id": "zMQ1w3TjRnPg"
      },
      "execution_count": 9,
      "outputs": []
    },
    {
      "cell_type": "code",
      "source": [
        "for frame_id in range(NUM_FRAMES):\n",
        "    a_start, a_end, _ = tasks[(frame_id, \"Analysis\")]\n",
        "    c_start, c_end, _ = tasks[(frame_id, \"Checking\")]\n",
        "    i_start, i_end, _ = tasks[(frame_id, \"IFC\")]\n",
        "\n",
        "    model.Add(c_start >= a_end)\n",
        "    model.Add(i_start >= c_end)\n"
      ],
      "metadata": {
        "id": "ijDsCazjRnLW"
      },
      "execution_count": 10,
      "outputs": []
    },
    {
      "cell_type": "code",
      "source": [
        "analyst_intervals = [[] for _ in range(NUM_ANALYSTS)]\n",
        "\n",
        "for frame_id in range(NUM_FRAMES):\n",
        "    a_start, a_end, _ = tasks[(frame_id, \"Analysis\")]\n",
        "    duration = TASK_DURATION[\"Analysis\"]\n",
        "    for analyst_id in range(NUM_ANALYSTS):\n",
        "        suffix = f\"_f{frame_id}_a{analyst_id}\"\n",
        "        assigned = model.NewBoolVar(\"assigned\" + suffix)\n",
        "        interval = model.NewOptionalIntervalVar(a_start, duration, a_end, assigned, \"interval\" + suffix)\n",
        "        analyst_intervals[analyst_id].append(interval)\n"
      ],
      "metadata": {
        "id": "3hZVTrhhRm-A"
      },
      "execution_count": 11,
      "outputs": []
    },
    {
      "cell_type": "code",
      "source": [
        "for intervals in analyst_intervals:\n",
        "    model.AddNoOverlap(intervals)\n"
      ],
      "metadata": {
        "id": "d-PmQH3M2rsk"
      },
      "execution_count": 12,
      "outputs": []
    },
    {
      "cell_type": "code",
      "source": [
        "checker_intervals = []\n",
        "\n",
        "for frame_id in range(NUM_FRAMES):\n",
        "    _, _, c_interval = tasks[(frame_id, \"Checking\")]\n",
        "    checker_intervals.append(c_interval)\n",
        "\n",
        "model.AddNoOverlap(checker_intervals)\n"
      ],
      "metadata": {
        "colab": {
          "base_uri": "https://localhost:8080/"
        },
        "id": "PddGlnW02u2y",
        "outputId": "d7bf4223-f318-4c0a-f226-2459c0597119"
      },
      "execution_count": 13,
      "outputs": [
        {
          "output_type": "execute_result",
          "data": {
            "text/plain": [
              "<ortools.sat.python.cp_model.Constraint at 0x7c15d5025c50>"
            ]
          },
          "metadata": {},
          "execution_count": 13
        }
      ]
    },
    {
      "cell_type": "code",
      "source": [
        "# Completion time = latest end among all IFCs\n",
        "makespan = model.NewIntVar(0, 100, \"makespan\")\n",
        "for frame_id in range(NUM_FRAMES):\n",
        "    _, ifc_end, _ = tasks[(frame_id, \"IFC\")]\n",
        "    model.Add(makespan >= ifc_end)\n",
        "\n",
        "model.Minimize(makespan)\n"
      ],
      "metadata": {
        "id": "y44U4ucI2yCT"
      },
      "execution_count": 14,
      "outputs": []
    },
    {
      "cell_type": "code",
      "source": [
        "solver = cp_model.CpSolver()\n",
        "status = solver.Solve(model)\n",
        "\n",
        "if status == cp_model.OPTIMAL or status == cp_model.FEASIBLE:\n",
        "    print(\"Project completes in\", solver.Value(makespan), \"units\")\n",
        "    for frame_id in range(NUM_FRAMES):\n",
        "        for stage in STAGES:\n",
        "            start = solver.Value(tasks[(frame_id, stage)][0])\n",
        "            end = solver.Value(tasks[(frame_id, stage)][1])\n",
        "            print(f\"Frame {frame_id}, {stage}: {start} → {end}\")\n",
        "else:\n",
        "    print(\"No feasible solution found\")\n"
      ],
      "metadata": {
        "colab": {
          "base_uri": "https://localhost:8080/"
        },
        "id": "RUvKuG-j23ZP",
        "outputId": "623db6fe-4c5d-44d7-85eb-4a97c45c1653"
      },
      "execution_count": 15,
      "outputs": [
        {
          "output_type": "stream",
          "name": "stdout",
          "text": [
            "Project completes in 13 units\n",
            "Frame 0, Analysis: 0 → 2\n",
            "Frame 0, Checking: 6 → 7\n",
            "Frame 0, IFC: 7 → 8\n",
            "Frame 1, Analysis: 0 → 2\n",
            "Frame 1, Checking: 10 → 11\n",
            "Frame 1, IFC: 11 → 12\n",
            "Frame 2, Analysis: 0 → 2\n",
            "Frame 2, Checking: 8 → 9\n",
            "Frame 2, IFC: 9 → 10\n",
            "Frame 3, Analysis: 0 → 2\n",
            "Frame 3, Checking: 7 → 8\n",
            "Frame 3, IFC: 8 → 9\n",
            "Frame 4, Analysis: 0 → 2\n",
            "Frame 4, Checking: 2 → 3\n",
            "Frame 4, IFC: 3 → 4\n",
            "Frame 5, Analysis: 0 → 2\n",
            "Frame 5, Checking: 3 → 4\n",
            "Frame 5, IFC: 4 → 5\n",
            "Frame 6, Analysis: 0 → 2\n",
            "Frame 6, Checking: 11 → 12\n",
            "Frame 6, IFC: 12 → 13\n",
            "Frame 7, Analysis: 0 → 2\n",
            "Frame 7, Checking: 4 → 5\n",
            "Frame 7, IFC: 5 → 6\n",
            "Frame 8, Analysis: 0 → 2\n",
            "Frame 8, Checking: 5 → 6\n",
            "Frame 8, IFC: 6 → 7\n",
            "Frame 9, Analysis: 0 → 2\n",
            "Frame 9, Checking: 9 → 10\n",
            "Frame 9, IFC: 10 → 11\n"
          ]
        }
      ]
    },
    {
      "cell_type": "code",
      "source": [
        "import networkx as nx\n",
        "import matplotlib.pyplot as plt\n"
      ],
      "metadata": {
        "id": "54qASxR525R8"
      },
      "execution_count": 16,
      "outputs": []
    },
    {
      "cell_type": "code",
      "source": [
        "NUM_FRAMES = 10\n",
        "STAGES = [\"Analysis\", \"Checking\", \"IFC\"]\n",
        "TASK_DURATION = {\"Analysis\": 2, \"Checking\": 1, \"IFC\": 1}\n"
      ],
      "metadata": {
        "id": "YfsdOh3L3v_s"
      },
      "execution_count": 17,
      "outputs": []
    },
    {
      "cell_type": "code",
      "source": [
        "G = nx.DiGraph()\n"
      ],
      "metadata": {
        "id": "GuqSZS8y3xWx"
      },
      "execution_count": 18,
      "outputs": []
    },
    {
      "cell_type": "code",
      "source": [
        "for frame_id in range(NUM_FRAMES):\n",
        "    for stage in STAGES:\n",
        "        task_id = f\"F{frame_id}_{stage}\"\n",
        "        G.add_node(task_id,\n",
        "                   frame=frame_id,\n",
        "                   stage=stage,\n",
        "                   duration=TASK_DURATION[stage],\n",
        "                   roles=[\"Analyst\"] if stage == \"Analysis\" else (\n",
        "                       [\"Checker\"] if stage == \"Checking\" else [\"Engineer\"])\n",
        "                  )\n"
      ],
      "metadata": {
        "id": "z_yXIf1f3y3w"
      },
      "execution_count": 19,
      "outputs": []
    },
    {
      "cell_type": "code",
      "source": [
        "for frame_id in range(NUM_FRAMES):\n",
        "    G.add_edge(f\"F{frame_id}_Analysis\", f\"F{frame_id}_Checking\")\n",
        "    G.add_edge(f\"F{frame_id}_Checking\", f\"F{frame_id}_IFC\")\n"
      ],
      "metadata": {
        "id": "3dKw32sW30Vd"
      },
      "execution_count": 20,
      "outputs": []
    },
    {
      "cell_type": "code",
      "source": [
        "pos = nx.spring_layout(G)\n",
        "plt.figure(figsize=(14, 8))\n",
        "nx.draw(G, pos, with_labels=True, node_color='lightblue', edge_color='gray', node_size=2000, font_size=10)\n",
        "nx.draw_networkx_edge_labels(G, pos, edge_labels={(u, v): '→' for u, v in G.edges()})\n",
        "plt.title(\"Stress Analysis Workflow Graph\")\n",
        "plt.axis(\"off\")\n",
        "plt.show()\n",
        "\n"
      ],
      "metadata": {
        "colab": {
          "base_uri": "https://localhost:8080/",
          "height": 440
        },
        "id": "O0E61t7i31ym",
        "outputId": "c3f3990d-4bed-48a5-9738-40ef5db4da7e"
      },
      "execution_count": 25,
      "outputs": [
        {
          "output_type": "display_data",
          "data": {
            "text/plain": [
              "<Figure size 1400x800 with 1 Axes>"
            ],
            "image/png": "[encoded data removed]"
          },
          "metadata": {}
        }
      ]
    },
    {
      "cell_type": "code",
      "source": [
        "SKILL_LEVELS = {\"Beginner\": 1, \"Intermediate\": 2, \"Advanced\": 3}\n",
        "TASK_DIFFICULTY = {\"Level 1\": 1, \"Level 2\": 2, \"Level 3\": 3}\n"
      ],
      "metadata": {
        "id": "OBKFpvLi36MN"
      },
      "execution_count": 26,
      "outputs": []
    },
    {
      "cell_type": "code",
      "source": [
        "analysts = {\n",
        "    \"A0\": {\"level\": 1},\n",
        "    \"A1\": {\"level\": 2},\n",
        "    \"A2\": {\"level\": 3},  # Advanced\n",
        "    \"Checker\": {\"level\": 3}  # Can also analyze Level 3 tasks\n",
        "}\n"
      ],
      "metadata": {
        "id": "7WorcQ3w7Kht"
      },
      "execution_count": 27,
      "outputs": []
    },
    {
      "cell_type": "code",
      "source": [
        "frame_difficulties = {\n",
        "    0: 1, 1: 1, 2: 2, 3: 3, 4: 2, 5: 1, 6: 3, 7: 1, 8: 2, 9: 3\n",
        "}\n"
      ],
      "metadata": {
        "id": "f6nAgmx77MLd"
      },
      "execution_count": 28,
      "outputs": []
    },
    {
      "cell_type": "code",
      "source": [
        "for frame_id in range(NUM_FRAMES):\n",
        "    difficulty = frame_difficulties[frame_id]\n",
        "\n",
        "    for analyst_id, analyst_info in analysts.items():\n",
        "        skill_level = analyst_info[\"level\"]\n",
        "\n",
        "        if skill_level >= difficulty:\n",
        "            # Create optional interval for this analyst doing this task\n",
        "            # (just like earlier, but now conditionally created)\n",
        "            ...\n"
      ],
      "metadata": {
        "id": "9UEZiuAD7NvO"
      },
      "execution_count": 29,
      "outputs": []
    },
    {
      "cell_type": "code",
      "source": [
        "G.nodes[\"F3_Analysis\"][\"difficulty\"] = 3\n",
        "\n"
      ],
      "metadata": {
        "id": "X1seHTTZ7Vt9"
      },
      "execution_count": 31,
      "outputs": []
    },
    {
      "cell_type": "code",
      "source": [
        "eligible_analyst_task_edges = []\n",
        "for analyst_name, a_data in analysts.items():\n",
        "    for frame_id, difficulty in frame_difficulties.items():\n",
        "        if a_data[\"level\"] >= difficulty:\n",
        "            eligible_analyst_task_edges.append((analyst_name, f\"F{frame_id}_Analysis\"))\n"
      ],
      "metadata": {
        "id": "HKAv61bj7XSW"
      },
      "execution_count": 32,
      "outputs": []
    },
    {
      "cell_type": "code",
      "source": [
        "analysts = {\n",
        "    \"A0\": {\"level\": 1},  # Beginner\n",
        "    \"A1\": {\"level\": 2},  # Intermediate\n",
        "    \"A2\": {\"level\": 3},  # Advanced\n",
        "    \"Checker\": {\"level\": 3}\n",
        "}\n"
      ],
      "metadata": {
        "id": "zLYwMA2V7diO"
      },
      "execution_count": 33,
      "outputs": []
    },
    {
      "cell_type": "code",
      "source": [
        "import networkx as nx\n",
        "\n",
        "G = nx.DiGraph()\n",
        "TASK_STAGES = [\"Analysis\", \"Checking\", \"IFC\"]\n",
        "\n",
        "# Example difficulty levels per frame (could be randomized or fixed)\n",
        "frame_difficulty = {\n",
        "    0: 1, 1: 2, 2: 1, 3: 3, 4: 2, 5: 1, 6: 2, 7: 3, 8: 1, 9: 3\n",
        "}\n",
        "\n",
        "for frame_id in range(10):\n",
        "    for stage in TASK_STAGES:\n",
        "        node = f\"F{frame_id}_{stage}\"\n",
        "        G.add_node(node,\n",
        "                   frame=frame_id,\n",
        "                   stage=stage,\n",
        "                   duration={\"Analysis\": 2, \"Checking\": 1, \"IFC\": 1}[stage],\n",
        "                   difficulty=frame_difficulty[frame_id] if stage == \"Analysis\" else None\n",
        "        )\n"
      ],
      "metadata": {
        "id": "plMjhn9H7s57"
      },
      "execution_count": 34,
      "outputs": []
    },
    {
      "cell_type": "code",
      "source": [
        "for frame_id in range(10):\n",
        "    G.add_edge(f\"F{frame_id}_Analysis\", f\"F{frame_id}_Checking\")\n",
        "    G.add_edge(f\"F{frame_id}_Checking\", f\"F{frame_id}_IFC\")\n"
      ],
      "metadata": {
        "id": "57jp6WCI7udo"
      },
      "execution_count": 35,
      "outputs": []
    },
    {
      "cell_type": "code",
      "source": [
        "# Add analyst nodes\n",
        "for analyst, data in analysts.items():\n",
        "    G.add_node(analyst, type=\"resource\", level=data[\"level\"])\n",
        "\n",
        "# Create eligibility edges from analyst to analysis tasks\n",
        "for analyst, data in analysts.items():\n",
        "    for frame_id, difficulty in frame_difficulty.items():\n",
        "        if data[\"level\"] >= difficulty:\n",
        "            G.add_edge(analyst, f\"F{frame_id}_Analysis\", relation=\"eligible_for\")\n"
      ],
      "metadata": {
        "id": "xRPcyGC87wOw"
      },
      "execution_count": 36,
      "outputs": []
    },
    {
      "cell_type": "code",
      "source": [
        "paths = []\n",
        "for frame_id in range(10):\n",
        "    path = nx.shortest_path(G, source=f\"F{frame_id}_Analysis\", target=f\"F{frame_id}_IFC\")\n",
        "    paths.append(path)\n"
      ],
      "metadata": {
        "id": "dAX-VKOs7zvX"
      },
      "execution_count": 37,
      "outputs": []
    },
    {
      "cell_type": "code",
      "source": [
        "node_colors = []\n",
        "for node in G.nodes():\n",
        "    if \"Analysis\" in node:\n",
        "        node_colors.append(\"skyblue\")\n",
        "    elif \"Checking\" in node:\n",
        "        node_colors.append(\"orange\")\n",
        "    elif \"IFC\" in node:\n",
        "        node_colors.append(\"lightgreen\")\n",
        "    elif \"A\" in node or node == \"Checker\":\n",
        "        node_colors.append(\"gray\")\n",
        "\n",
        "edge_colors = [\"black\" if G[u][v].get(\"relation\") != \"eligible_for\" else \"purple\" for u, v in G.edges()]\n"
      ],
      "metadata": {
        "id": "wji-aCV373u2"
      },
      "execution_count": 38,
      "outputs": []
    },
    {
      "cell_type": "code",
      "source": [],
      "metadata": {
        "id": "QUxBQ_9F75yW"
      },
      "execution_count": null,
      "outputs": []
    }
  ]
}