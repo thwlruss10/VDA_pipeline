{
  "cells": [
    {
      "cell_type": "markdown",
      "metadata": {
        "id": "view-in-github",
        "colab_type": "text"
      },
      "source": [
        "<a href=\"https://colab.research.google.com/github/thwlruss10/VDA_pipeline/blob/main/VQA_Bert_DEiT.ipynb\" target=\"_parent\"><img src=\"https://colab.research.google.com/assets/colab-badge.svg\" alt=\"Open In Colab\"/></a>"
      ]
    },
    {
      "cell_type": "code",
      "execution_count": 3,
      "id": "zioGKih-t97P",
      "metadata": {
        "colab": {
          "base_uri": "https://localhost:8080/"
        },
        "id": "zioGKih-t97P",
        "outputId": "26afed39-7434-462a-8aa5-fed9fc93c6e0"
      },
      "outputs": [
        {
          "output_type": "stream",
          "name": "stdout",
          "text": [
            "Requirement already satisfied: transformers in /usr/local/lib/python3.11/dist-packages (4.50.3)\n",
            "Collecting datasets\n",
            "  Downloading datasets-3.5.0-py3-none-any.whl.metadata (19 kB)\n",
            "Requirement already satisfied: nltk in /usr/local/lib/python3.11/dist-packages (3.9.1)\n",
            "Requirement already satisfied: scikit-learn in /usr/local/lib/python3.11/dist-packages (1.6.1)\n",
            "Requirement already satisfied: filelock in /usr/local/lib/python3.11/dist-packages (from transformers) (3.18.0)\n",
            "Requirement already satisfied: huggingface-hub<1.0,>=0.26.0 in /usr/local/lib/python3.11/dist-packages (from transformers) (0.30.1)\n",
            "Requirement already satisfied: numpy>=1.17 in /usr/local/lib/python3.11/dist-packages (from transformers) (2.0.2)\n",
            "Requirement already satisfied: packaging>=20.0 in /usr/local/lib/python3.11/dist-packages (from transformers) (24.2)\n",
            "Requirement already satisfied: pyyaml>=5.1 in /usr/local/lib/python3.11/dist-packages (from transformers) (6.0.2)\n",
            "Requirement already satisfied: regex!=2019.12.17 in /usr/local/lib/python3.11/dist-packages (from transformers) (2024.11.6)\n",
            "Requirement already satisfied: requests in /usr/local/lib/python3.11/dist-packages (from transformers) (2.32.3)\n",
            "Requirement already satisfied: tokenizers<0.22,>=0.21 in /usr/local/lib/python3.11/dist-packages (from transformers) (0.21.1)\n",
            "Requirement already satisfied: safetensors>=0.4.3 in /usr/local/lib/python3.11/dist-packages (from transformers) (0.5.3)\n",
            "Requirement already satisfied: tqdm>=4.27 in /usr/local/lib/python3.11/dist-packages (from transformers) (4.67.1)\n",
            "Requirement already satisfied: pyarrow>=15.0.0 in /usr/local/lib/python3.11/dist-packages (from datasets) (18.1.0)\n",
            "Collecting dill<0.3.9,>=0.3.0 (from datasets)\n",
            "  Downloading dill-0.3.8-py3-none-any.whl.metadata (10 kB)\n",
            "Requirement already satisfied: pandas in /usr/local/lib/python3.11/dist-packages (from datasets) (2.2.2)\n",
            "Collecting xxhash (from datasets)\n",
            "  Downloading xxhash-3.5.0-cp311-cp311-manylinux_2_17_x86_64.manylinux2014_x86_64.whl.metadata (12 kB)\n",
            "Collecting multiprocess<0.70.17 (from datasets)\n",
            "  Downloading multiprocess-0.70.16-py311-none-any.whl.metadata (7.2 kB)\n",
            "Collecting fsspec<=2024.12.0,>=2023.1.0 (from fsspec[http]<=2024.12.0,>=2023.1.0->datasets)\n",
            "  Downloading fsspec-2024.12.0-py3-none-any.whl.metadata (11 kB)\n",
            "Requirement already satisfied: aiohttp in /usr/local/lib/python3.11/dist-packages (from datasets) (3.11.15)\n",
            "Requirement already satisfied: click in /usr/local/lib/python3.11/dist-packages (from nltk) (8.1.8)\n",
            "Requirement already satisfied: joblib in /usr/local/lib/python3.11/dist-packages (from nltk) (1.4.2)\n",
            "Requirement already satisfied: scipy>=1.6.0 in /usr/local/lib/python3.11/dist-packages (from scikit-learn) (1.14.1)\n",
            "Requirement already satisfied: threadpoolctl>=3.1.0 in /usr/local/lib/python3.11/dist-packages (from scikit-learn) (3.6.0)\n",
            "Requirement already satisfied: aiohappyeyeballs>=2.3.0 in /usr/local/lib/python3.11/dist-packages (from aiohttp->datasets) (2.6.1)\n",
            "Requirement already satisfied: aiosignal>=1.1.2 in /usr/local/lib/python3.11/dist-packages (from aiohttp->datasets) (1.3.2)\n",
            "Requirement already satisfied: attrs>=17.3.0 in /usr/local/lib/python3.11/dist-packages (from aiohttp->datasets) (25.3.0)\n",
            "Requirement already satisfied: frozenlist>=1.1.1 in /usr/local/lib/python3.11/dist-packages (from aiohttp->datasets) (1.5.0)\n",
            "Requirement already satisfied: multidict<7.0,>=4.5 in /usr/local/lib/python3.11/dist-packages (from aiohttp->datasets) (6.3.1)\n",
            "Requirement already satisfied: propcache>=0.2.0 in /usr/local/lib/python3.11/dist-packages (from aiohttp->datasets) (0.3.1)\n",
            "Requirement already satisfied: yarl<2.0,>=1.17.0 in /usr/local/lib/python3.11/dist-packages (from aiohttp->datasets) (1.18.3)\n",
            "Requirement already satisfied: typing-extensions>=3.7.4.3 in /usr/local/lib/python3.11/dist-packages (from huggingface-hub<1.0,>=0.26.0->transformers) (4.13.0)\n",
            "Requirement already satisfied: charset-normalizer<4,>=2 in /usr/local/lib/python3.11/dist-packages (from requests->transformers) (3.4.1)\n",
            "Requirement already satisfied: idna<4,>=2.5 in /usr/local/lib/python3.11/dist-packages (from requests->transformers) (3.10)\n",
            "Requirement already satisfied: urllib3<3,>=1.21.1 in /usr/local/lib/python3.11/dist-packages (from requests->transformers) (2.3.0)\n",
            "Requirement already satisfied: certifi>=2017.4.17 in /usr/local/lib/python3.11/dist-packages (from requests->transformers) (2025.1.31)\n",
            "Requirement already satisfied: python-dateutil>=2.8.2 in /usr/local/lib/python3.11/dist-packages (from pandas->datasets) (2.8.2)\n",
            "Requirement already satisfied: pytz>=2020.1 in /usr/local/lib/python3.11/dist-packages (from pandas->datasets) (2025.2)\n",
            "Requirement already satisfied: tzdata>=2022.7 in /usr/local/lib/python3.11/dist-packages (from pandas->datasets) (2025.2)\n",
            "Requirement already satisfied: six>=1.5 in /usr/local/lib/python3.11/dist-packages (from python-dateutil>=2.8.2->pandas->datasets) (1.17.0)\n",
            "Downloading datasets-3.5.0-py3-none-any.whl (491 kB)\n",
            "\u001b[2K   \u001b[90m━━━━━━━━━━━━━━━━━━━━━━━━━━━━━━━━━━━━━━━━\u001b[0m \u001b[32m491.2/491.2 kB\u001b[0m \u001b[31m32.3 MB/s\u001b[0m eta \u001b[36m0:00:00\u001b[0m\n",
            "\u001b[?25hDownloading dill-0.3.8-py3-none-any.whl (116 kB)\n",
            "\u001b[2K   \u001b[90m━━━━━━━━━━━━━━━━━━━━━━━━━━━━━━━━━━━━━━━━\u001b[0m \u001b[32m116.3/116.3 kB\u001b[0m \u001b[31m13.5 MB/s\u001b[0m eta \u001b[36m0:00:00\u001b[0m\n",
            "\u001b[?25hDownloading fsspec-2024.12.0-py3-none-any.whl (183 kB)\n",
            "\u001b[2K   \u001b[90m━━━━━━━━━━━━━━━━━━━━━━━━━━━━━━━━━━━━━━━━\u001b[0m \u001b[32m183.9/183.9 kB\u001b[0m \u001b[31m20.1 MB/s\u001b[0m eta \u001b[36m0:00:00\u001b[0m\n",
            "\u001b[?25hDownloading multiprocess-0.70.16-py311-none-any.whl (143 kB)\n",
            "\u001b[2K   \u001b[90m━━━━━━━━━━━━━━━━━━━━━━━━━━━━━━━━━━━━━━━━\u001b[0m \u001b[32m143.5/143.5 kB\u001b[0m \u001b[31m16.0 MB/s\u001b[0m eta \u001b[36m0:00:00\u001b[0m\n",
            "\u001b[?25hDownloading xxhash-3.5.0-cp311-cp311-manylinux_2_17_x86_64.manylinux2014_x86_64.whl (194 kB)\n",
            "\u001b[2K   \u001b[90m━━━━━━━━━━━━━━━━━━━━━━━━━━━━━━━━━━━━━━━━\u001b[0m \u001b[32m194.8/194.8 kB\u001b[0m \u001b[31m19.9 MB/s\u001b[0m eta \u001b[36m0:00:00\u001b[0m\n",
            "\u001b[?25hInstalling collected packages: xxhash, fsspec, dill, multiprocess, datasets\n",
            "  Attempting uninstall: fsspec\n",
            "    Found existing installation: fsspec 2025.3.2\n",
            "    Uninstalling fsspec-2025.3.2:\n",
            "      Successfully uninstalled fsspec-2025.3.2\n",
            "\u001b[31mERROR: pip's dependency resolver does not currently take into account all the packages that are installed. This behaviour is the source of the following dependency conflicts.\n",
            "torch 2.6.0+cu124 requires nvidia-cublas-cu12==12.4.5.8; platform_system == \"Linux\" and platform_machine == \"x86_64\", but you have nvidia-cublas-cu12 12.5.3.2 which is incompatible.\n",
            "torch 2.6.0+cu124 requires nvidia-cuda-cupti-cu12==12.4.127; platform_system == \"Linux\" and platform_machine == \"x86_64\", but you have nvidia-cuda-cupti-cu12 12.5.82 which is incompatible.\n",
            "torch 2.6.0+cu124 requires nvidia-cuda-nvrtc-cu12==12.4.127; platform_system == \"Linux\" and platform_machine == \"x86_64\", but you have nvidia-cuda-nvrtc-cu12 12.5.82 which is incompatible.\n",
            "torch 2.6.0+cu124 requires nvidia-cuda-runtime-cu12==12.4.127; platform_system == \"Linux\" and platform_machine == \"x86_64\", but you have nvidia-cuda-runtime-cu12 12.5.82 which is incompatible.\n",
            "torch 2.6.0+cu124 requires nvidia-cudnn-cu12==9.1.0.70; platform_system == \"Linux\" and platform_machine == \"x86_64\", but you have nvidia-cudnn-cu12 9.3.0.75 which is incompatible.\n",
            "torch 2.6.0+cu124 requires nvidia-cufft-cu12==11.2.1.3; platform_system == \"Linux\" and platform_machine == \"x86_64\", but you have nvidia-cufft-cu12 11.2.3.61 which is incompatible.\n",
            "torch 2.6.0+cu124 requires nvidia-curand-cu12==10.3.5.147; platform_system == \"Linux\" and platform_machine == \"x86_64\", but you have nvidia-curand-cu12 10.3.6.82 which is incompatible.\n",
            "torch 2.6.0+cu124 requires nvidia-cusolver-cu12==11.6.1.9; platform_system == \"Linux\" and platform_machine == \"x86_64\", but you have nvidia-cusolver-cu12 11.6.3.83 which is incompatible.\n",
            "torch 2.6.0+cu124 requires nvidia-cusparse-cu12==12.3.1.170; platform_system == \"Linux\" and platform_machine == \"x86_64\", but you have nvidia-cusparse-cu12 12.5.1.3 which is incompatible.\n",
            "torch 2.6.0+cu124 requires nvidia-nvjitlink-cu12==12.4.127; platform_system == \"Linux\" and platform_machine == \"x86_64\", but you have nvidia-nvjitlink-cu12 12.5.82 which is incompatible.\n",
            "gcsfs 2025.3.2 requires fsspec==2025.3.2, but you have fsspec 2024.12.0 which is incompatible.\u001b[0m\u001b[31m\n",
            "\u001b[0mSuccessfully installed datasets-3.5.0 dill-0.3.8 fsspec-2024.12.0 multiprocess-0.70.16 xxhash-3.5.0\n"
          ]
        }
      ],
      "source": [
        "!pip install transformers datasets nltk scikit-learn\n"
      ]
    },
    {
      "cell_type": "markdown",
      "id": "df850ec7",
      "metadata": {
        "id": "df850ec7"
      },
      "source": [
        "### follows Medium code sequence, incuding ReGex\n"
      ]
    },
    {
      "cell_type": "code",
      "execution_count": 4,
      "id": "-CQpvTZ_vsSN",
      "metadata": {
        "colab": {
          "base_uri": "https://localhost:8080/"
        },
        "id": "-CQpvTZ_vsSN",
        "outputId": "4db793e5-9058-46fb-ba49-d6fa20ca3549"
      },
      "outputs": [
        {
          "output_type": "stream",
          "name": "stdout",
          "text": [
            "Mounted at /content/drive\n"
          ]
        }
      ],
      "source": [
        "from google.colab import drive\n",
        "drive.mount('/content/drive')\n"
      ]
    },
    {
      "cell_type": "code",
      "execution_count": 5,
      "id": "dd062d49",
      "metadata": {
        "colab": {
          "base_uri": "https://localhost:8080/"
        },
        "id": "dd062d49",
        "outputId": "d54867d3-aeca-45c7-b204-63dbd51e4633"
      },
      "outputs": [
        {
          "output_type": "stream",
          "name": "stderr",
          "text": [
            "[nltk_data] Downloading package wordnet to /root/nltk_data...\n"
          ]
        }
      ],
      "source": [
        "from copy import deepcopy\n",
        "from dataclasses import dataclass\n",
        "from typing import Dict, List, Optional, Tuple\n",
        "from datasets import load_dataset\n",
        "import numpy as np\n",
        "from PIL import Image\n",
        "import torch\n",
        "import torch.nn as nn\n",
        "import re\n",
        "import pandas as pd\n",
        "import os\n",
        "from transformers import (\n",
        "    # Preprocessing / Common\n",
        "    AutoTokenizer, AutoFeatureExtractor,\n",
        "    # Text & Image Models (Now, image transformers like ViTModel, DeiTModel, BEiT can also be loaded using AutoModel)\n",
        "    AutoModel,\n",
        "    # Training / Evaluation\n",
        "    TrainingArguments, Trainer,\n",
        "    # Misc\n",
        "    logging\n",
        ")\n",
        "\n",
        "# import nltk\n",
        "# nltk.download('wordnet')\n",
        "\n",
        "import nltk\n",
        "nltk.download('wordnet')\n",
        "from nltk.corpus import wordnet\n",
        "from sklearn.model_selection import train_test_split\n",
        "from sklearn.metrics import accuracy_score, f1_score\n",
        "\n",
        "# SET CACHE FOR HUGGINGFACE TRANSFORMERS + DATASETS\n",
        "os.environ['HF_HOME'] = os.path.join(\".\", \"cache\")\n",
        "# SET ONLY 1 GPU DEVICE\n",
        "os.environ['CUDA_VISIBLE_DEVICES'] = '0'\n",
        "\n",
        "#set_caching_enabled(True)>> this line deleted as 'datasets' no longer supports explicit cahce enabling\n",
        "#set_caching_enabled(True)\n",
        "logging.set_verbosity_error()\n",
        "\n",
        "device = torch.device('cuda:0' if torch.cuda.is_available() else 'cpu')\n"
      ]
    },
    {
      "cell_type": "markdown",
      "source": [
        "Above code imports dependencies, sets cache path for Huggingface transformers, error logs message threshold set to supress warnings deemed not sever. GPU device set for torch processes."
      ],
      "metadata": {
        "id": "gyxWJWH2z6Xc"
      },
      "id": "gyxWJWH2z6Xc"
    },
    {
      "cell_type": "code",
      "execution_count": 6,
      "id": "omIa4p1vvciV",
      "metadata": {
        "colab": {
          "base_uri": "https://localhost:8080/"
        },
        "id": "omIa4p1vvciV",
        "outputId": "e6c84244-8a6b-4bf4-dd1d-bd1703b3941e"
      },
      "outputs": [
        {
          "output_type": "stream",
          "name": "stdout",
          "text": [
            "/content\n"
          ]
        }
      ],
      "source": [
        "import os\n",
        "print(os.getcwd())\n"
      ]
    },
    {
      "cell_type": "code",
      "execution_count": null,
      "id": "G-f5YY7avgRU",
      "metadata": {
        "colab": {
          "base_uri": "https://localhost:8080/"
        },
        "id": "G-f5YY7avgRU",
        "outputId": "b0fffb18-8cb9-4dc3-ccca-3446b7dd63ee"
      },
      "outputs": [
        {
          "output_type": "stream",
          "name": "stdout",
          "text": [
            "drive  sample_data\n"
          ]
        }
      ],
      "source": [
        "!ls\n"
      ]
    },
    {
      "cell_type": "code",
      "execution_count": 7,
      "id": "TF7cDaBPP06j",
      "metadata": {
        "id": "TF7cDaBPP06j"
      },
      "outputs": [],
      "source": [
        "import os\n",
        "import re\n",
        "import pandas as pd\n",
        "from sklearn.model_selection import train_test_split\n",
        "\n",
        "# Define base directory pointing to your Drive location\n",
        "base_dir = \"/content/drive/MyDrive/FinalProject/dataset\"\n",
        "os.makedirs(base_dir, exist_ok=True)\n",
        "\n",
        "# Define regex to extract image ID\n",
        "image_pattern = re.compile(r\"( (in |on |of )?(the |this )?(image\\d*) \\?)\")\n",
        "\n",
        "# Read the raw Q&A file\n",
        "qa_file = os.path.join(base_dir, \"all_qa_pairs.txt\")\n",
        "with open(qa_file, \"r\", encoding=\"utf-8\") as f: # open in read mode with in utf-8 encoding\n",
        "    qa_data = [x.strip() for x in f.readlines()] # x.strip() removes white spaces\n",
        "\n",
        "# Parse and clean questions, answers, and image IDs\n",
        "records = []\n",
        "for i in range(0, len(qa_data), 2): # iterates in steps of two because quesiton is at index i and answer at i+1\n",
        "    match = image_pattern.findall(qa_data[i]) # extract image ID from question string\n",
        "    if match:\n",
        "        img_id = match[0][3]\n",
        "        question = qa_data[i].replace(match[0][0], \"\").strip() # remove image ID and replace question\n",
        "        answer = qa_data[i + 1].strip() # answer retrieved from next element\n",
        "        records.append({\"question\": question, \"answer\": answer, \"image_id\": img_id}) #populate dictionary\n",
        "\n",
        "# Create DataFrame from parsed data\n",
        "df = pd.DataFrame(records)\n",
        "\n",
        "# Create answer space (flatten multiple answers per question if needed)\n",
        "# Iterates through 'answer' column of DataFrame, handline cases where multiple\n",
        "#   answers are seperated by commas\n",
        "answer_space = []\n",
        "for ans in df[\"answer\"].to_list():\n",
        "    if \",\" in ans:\n",
        "        answer_space += ans.replace(\" \", \"\").split(\",\")\n",
        "    else:\n",
        "        answer_space.append(ans)\n",
        "\n",
        "# sort and remove duplicates from answer_space\n",
        "answer_space = sorted(set(answer_space))\n",
        "\n",
        "# Write the answer space to file\n",
        "with open(os.path.join(base_dir, \"answer_space.txt\"), \"w\", encoding=\"utf-8\") as f:\n",
        "    f.writelines(\"\\n\".join(answer_space))\n",
        "\n",
        "# Split dataset into training and evaluation\n",
        "train_df, test_df = train_test_split(df, test_size=0.2, random_state=42)\n",
        "\n",
        "# Save to CSV\n",
        "train_df.to_csv(os.path.join(base_dir, \"data_train.csv\"), index=False)\n",
        "test_df.to_csv(os.path.join(base_dir, \"data_eval.csv\"), index=False)\n"
      ]
    },
    {
      "cell_type": "markdown",
      "source": [
        " this code snippet takes a raw question-answer dataset, extracts relevant information using regular expressions, organizes it into a pandas DataFrame, creates a list of unique answers, and then splits the dataset into training and testing sets, saving them as CSV files for further use in a machine learning task, likely Visual Question Answering (VQA)."
      ],
      "metadata": {
        "id": "AxG65UvC-qMa"
      },
      "id": "AxG65UvC-qMa"
    },
    {
      "cell_type": "markdown",
      "source": [
        "Above code extracts key words from raw Q & A data, including..."
      ],
      "metadata": {
        "id": "khd8hJKs04aZ"
      },
      "id": "khd8hJKs04aZ"
    },
    {
      "cell_type": "code",
      "source": [
        "df"
      ],
      "metadata": {
        "colab": {
          "base_uri": "https://localhost:8080/",
          "height": 424
        },
        "id": "3c5up-38m7m-",
        "outputId": "ad165453-7d31-4f53-9fad-58c0f400f040"
      },
      "id": "3c5up-38m7m-",
      "execution_count": null,
      "outputs": [
        {
          "output_type": "execute_result",
          "data": {
            "text/plain": [
              "                                                question           answer  \\\n",
              "0      what is on the left side of the white oven on ...      garbage_bin   \n",
              "1      what is on the left side of the fire extinguis...            table   \n",
              "2      what is between the the two white and black ga...            chair   \n",
              "3      how many objects are between the fire extingui...                3   \n",
              "4             what is the largest object in this picture  washing_machine   \n",
              "...                                                  ...              ...   \n",
              "12463                 what is found below the chandelier            table   \n",
              "12464                               what is on the floor              rug   \n",
              "12465                       what are around dining table            chair   \n",
              "12466   what is at the opposite side of the dining table  decoration_item   \n",
              "12467                    what is behind the wall divider            table   \n",
              "\n",
              "        image_id  \n",
              "0         image1  \n",
              "1         image1  \n",
              "2         image1  \n",
              "3         image1  \n",
              "4         image1  \n",
              "...          ...  \n",
              "12463  image1448  \n",
              "12464  image1449  \n",
              "12465  image1449  \n",
              "12466  image1449  \n",
              "12467  image1449  \n",
              "\n",
              "[12468 rows x 3 columns]"
            ],
            "text/html": [
              "\n",
              "  <div id=\"df-1259519d-aba8-4f3c-a922-4a7294869e7e\" class=\"colab-df-container\">\n",
              "    <div>\n",
              "<style scoped>\n",
              "    .dataframe tbody tr th:only-of-type {\n",
              "        vertical-align: middle;\n",
              "    }\n",
              "\n",
              "    .dataframe tbody tr th {\n",
              "        vertical-align: top;\n",
              "    }\n",
              "\n",
              "    .dataframe thead th {\n",
              "        text-align: right;\n",
              "    }\n",
              "</style>\n",
              "<table border=\"1\" class=\"dataframe\">\n",
              "  <thead>\n",
              "    <tr style=\"text-align: right;\">\n",
              "      <th></th>\n",
              "      <th>question</th>\n",
              "      <th>answer</th>\n",
              "      <th>image_id</th>\n",
              "    </tr>\n",
              "  </thead>\n",
              "  <tbody>\n",
              "    <tr>\n",
              "      <th>0</th>\n",
              "      <td>what is on the left side of the white oven on ...</td>\n",
              "      <td>garbage_bin</td>\n",
              "      <td>image1</td>\n",
              "    </tr>\n",
              "    <tr>\n",
              "      <th>1</th>\n",
              "      <td>what is on the left side of the fire extinguis...</td>\n",
              "      <td>table</td>\n",
              "      <td>image1</td>\n",
              "    </tr>\n",
              "    <tr>\n",
              "      <th>2</th>\n",
              "      <td>what is between the the two white and black ga...</td>\n",
              "      <td>chair</td>\n",
              "      <td>image1</td>\n",
              "    </tr>\n",
              "    <tr>\n",
              "      <th>3</th>\n",
              "      <td>how many objects are between the fire extingui...</td>\n",
              "      <td>3</td>\n",
              "      <td>image1</td>\n",
              "    </tr>\n",
              "    <tr>\n",
              "      <th>4</th>\n",
              "      <td>what is the largest object in this picture</td>\n",
              "      <td>washing_machine</td>\n",
              "      <td>image1</td>\n",
              "    </tr>\n",
              "    <tr>\n",
              "      <th>...</th>\n",
              "      <td>...</td>\n",
              "      <td>...</td>\n",
              "      <td>...</td>\n",
              "    </tr>\n",
              "    <tr>\n",
              "      <th>12463</th>\n",
              "      <td>what is found below the chandelier</td>\n",
              "      <td>table</td>\n",
              "      <td>image1448</td>\n",
              "    </tr>\n",
              "    <tr>\n",
              "      <th>12464</th>\n",
              "      <td>what is on the floor</td>\n",
              "      <td>rug</td>\n",
              "      <td>image1449</td>\n",
              "    </tr>\n",
              "    <tr>\n",
              "      <th>12465</th>\n",
              "      <td>what are around dining table</td>\n",
              "      <td>chair</td>\n",
              "      <td>image1449</td>\n",
              "    </tr>\n",
              "    <tr>\n",
              "      <th>12466</th>\n",
              "      <td>what is at the opposite side of the dining table</td>\n",
              "      <td>decoration_item</td>\n",
              "      <td>image1449</td>\n",
              "    </tr>\n",
              "    <tr>\n",
              "      <th>12467</th>\n",
              "      <td>what is behind the wall divider</td>\n",
              "      <td>table</td>\n",
              "      <td>image1449</td>\n",
              "    </tr>\n",
              "  </tbody>\n",
              "</table>\n",
              "<p>12468 rows × 3 columns</p>\n",
              "</div>\n",
              "    <div class=\"colab-df-buttons\">\n",
              "\n",
              "  <div class=\"colab-df-container\">\n",
              "    <button class=\"colab-df-convert\" onclick=\"convertToInteractive('df-1259519d-aba8-4f3c-a922-4a7294869e7e')\"\n",
              "            title=\"Convert this dataframe to an interactive table.\"\n",
              "            style=\"display:none;\">\n",
              "\n",
              "  <svg xmlns=\"http://www.w3.org/2000/svg\" height=\"24px\" viewBox=\"0 -960 960 960\">\n",
              "    <path d=\"M120-120v-720h720v720H120Zm60-500h600v-160H180v160Zm220 220h160v-160H400v160Zm0 220h160v-160H400v160ZM180-400h160v-160H180v160Zm440 0h160v-160H620v160ZM180-180h160v-160H180v160Zm440 0h160v-160H620v160Z\"/>\n",
              "  </svg>\n",
              "    </button>\n",
              "\n",
              "  <style>\n",
              "    .colab-df-container {\n",
              "      display:flex;\n",
              "      gap: 12px;\n",
              "    }\n",
              "\n",
              "    .colab-df-convert {\n",
              "      background-color: #E8F0FE;\n",
              "      border: none;\n",
              "      border-radius: 50%;\n",
              "      cursor: pointer;\n",
              "      display: none;\n",
              "      fill: #1967D2;\n",
              "      height: 32px;\n",
              "      padding: 0 0 0 0;\n",
              "      width: 32px;\n",
              "    }\n",
              "\n",
              "    .colab-df-convert:hover {\n",
              "      background-color: #E2EBFA;\n",
              "      box-shadow: 0px 1px 2px rgba(60, 64, 67, 0.3), 0px 1px 3px 1px rgba(60, 64, 67, 0.15);\n",
              "      fill: #174EA6;\n",
              "    }\n",
              "\n",
              "    .colab-df-buttons div {\n",
              "      margin-bottom: 4px;\n",
              "    }\n",
              "\n",
              "    [theme=dark] .colab-df-convert {\n",
              "      background-color: #3B4455;\n",
              "      fill: #D2E3FC;\n",
              "    }\n",
              "\n",
              "    [theme=dark] .colab-df-convert:hover {\n",
              "      background-color: #434B5C;\n",
              "      box-shadow: 0px 1px 3px 1px rgba(0, 0, 0, 0.15);\n",
              "      filter: drop-shadow(0px 1px 2px rgba(0, 0, 0, 0.3));\n",
              "      fill: #FFFFFF;\n",
              "    }\n",
              "  </style>\n",
              "\n",
              "    <script>\n",
              "      const buttonEl =\n",
              "        document.querySelector('#df-1259519d-aba8-4f3c-a922-4a7294869e7e button.colab-df-convert');\n",
              "      buttonEl.style.display =\n",
              "        google.colab.kernel.accessAllowed ? 'block' : 'none';\n",
              "\n",
              "      async function convertToInteractive(key) {\n",
              "        const element = document.querySelector('#df-1259519d-aba8-4f3c-a922-4a7294869e7e');\n",
              "        const dataTable =\n",
              "          await google.colab.kernel.invokeFunction('convertToInteractive',\n",
              "                                                    [key], {});\n",
              "        if (!dataTable) return;\n",
              "\n",
              "        const docLinkHtml = 'Like what you see? Visit the ' +\n",
              "          '<a target=\"_blank\" href=https://colab.research.google.com/notebooks/data_table.ipynb>data table notebook</a>'\n",
              "          + ' to learn more about interactive tables.';\n",
              "        element.innerHTML = '';\n",
              "        dataTable['output_type'] = 'display_data';\n",
              "        await google.colab.output.renderOutput(dataTable, element);\n",
              "        const docLink = document.createElement('div');\n",
              "        docLink.innerHTML = docLinkHtml;\n",
              "        element.appendChild(docLink);\n",
              "      }\n",
              "    </script>\n",
              "  </div>\n",
              "\n",
              "\n",
              "<div id=\"df-396ee858-cbcd-4306-bd57-e9d7b9abd8e2\">\n",
              "  <button class=\"colab-df-quickchart\" onclick=\"quickchart('df-396ee858-cbcd-4306-bd57-e9d7b9abd8e2')\"\n",
              "            title=\"Suggest charts\"\n",
              "            style=\"display:none;\">\n",
              "\n",
              "<svg xmlns=\"http://www.w3.org/2000/svg\" height=\"24px\"viewBox=\"0 0 24 24\"\n",
              "     width=\"24px\">\n",
              "    <g>\n",
              "        <path d=\"M19 3H5c-1.1 0-2 .9-2 2v14c0 1.1.9 2 2 2h14c1.1 0 2-.9 2-2V5c0-1.1-.9-2-2-2zM9 17H7v-7h2v7zm4 0h-2V7h2v10zm4 0h-2v-4h2v4z\"/>\n",
              "    </g>\n",
              "</svg>\n",
              "  </button>\n",
              "\n",
              "<style>\n",
              "  .colab-df-quickchart {\n",
              "      --bg-color: #E8F0FE;\n",
              "      --fill-color: #1967D2;\n",
              "      --hover-bg-color: #E2EBFA;\n",
              "      --hover-fill-color: #174EA6;\n",
              "      --disabled-fill-color: #AAA;\n",
              "      --disabled-bg-color: #DDD;\n",
              "  }\n",
              "\n",
              "  [theme=dark] .colab-df-quickchart {\n",
              "      --bg-color: #3B4455;\n",
              "      --fill-color: #D2E3FC;\n",
              "      --hover-bg-color: #434B5C;\n",
              "      --hover-fill-color: #FFFFFF;\n",
              "      --disabled-bg-color: #3B4455;\n",
              "      --disabled-fill-color: #666;\n",
              "  }\n",
              "\n",
              "  .colab-df-quickchart {\n",
              "    background-color: var(--bg-color);\n",
              "    border: none;\n",
              "    border-radius: 50%;\n",
              "    cursor: pointer;\n",
              "    display: none;\n",
              "    fill: var(--fill-color);\n",
              "    height: 32px;\n",
              "    padding: 0;\n",
              "    width: 32px;\n",
              "  }\n",
              "\n",
              "  .colab-df-quickchart:hover {\n",
              "    background-color: var(--hover-bg-color);\n",
              "    box-shadow: 0 1px 2px rgba(60, 64, 67, 0.3), 0 1px 3px 1px rgba(60, 64, 67, 0.15);\n",
              "    fill: var(--button-hover-fill-color);\n",
              "  }\n",
              "\n",
              "  .colab-df-quickchart-complete:disabled,\n",
              "  .colab-df-quickchart-complete:disabled:hover {\n",
              "    background-color: var(--disabled-bg-color);\n",
              "    fill: var(--disabled-fill-color);\n",
              "    box-shadow: none;\n",
              "  }\n",
              "\n",
              "  .colab-df-spinner {\n",
              "    border: 2px solid var(--fill-color);\n",
              "    border-color: transparent;\n",
              "    border-bottom-color: var(--fill-color);\n",
              "    animation:\n",
              "      spin 1s steps(1) infinite;\n",
              "  }\n",
              "\n",
              "  @keyframes spin {\n",
              "    0% {\n",
              "      border-color: transparent;\n",
              "      border-bottom-color: var(--fill-color);\n",
              "      border-left-color: var(--fill-color);\n",
              "    }\n",
              "    20% {\n",
              "      border-color: transparent;\n",
              "      border-left-color: var(--fill-color);\n",
              "      border-top-color: var(--fill-color);\n",
              "    }\n",
              "    30% {\n",
              "      border-color: transparent;\n",
              "      border-left-color: var(--fill-color);\n",
              "      border-top-color: var(--fill-color);\n",
              "      border-right-color: var(--fill-color);\n",
              "    }\n",
              "    40% {\n",
              "      border-color: transparent;\n",
              "      border-right-color: var(--fill-color);\n",
              "      border-top-color: var(--fill-color);\n",
              "    }\n",
              "    60% {\n",
              "      border-color: transparent;\n",
              "      border-right-color: var(--fill-color);\n",
              "    }\n",
              "    80% {\n",
              "      border-color: transparent;\n",
              "      border-right-color: var(--fill-color);\n",
              "      border-bottom-color: var(--fill-color);\n",
              "    }\n",
              "    90% {\n",
              "      border-color: transparent;\n",
              "      border-bottom-color: var(--fill-color);\n",
              "    }\n",
              "  }\n",
              "</style>\n",
              "\n",
              "  <script>\n",
              "    async function quickchart(key) {\n",
              "      const quickchartButtonEl =\n",
              "        document.querySelector('#' + key + ' button');\n",
              "      quickchartButtonEl.disabled = true;  // To prevent multiple clicks.\n",
              "      quickchartButtonEl.classList.add('colab-df-spinner');\n",
              "      try {\n",
              "        const charts = await google.colab.kernel.invokeFunction(\n",
              "            'suggestCharts', [key], {});\n",
              "      } catch (error) {\n",
              "        console.error('Error during call to suggestCharts:', error);\n",
              "      }\n",
              "      quickchartButtonEl.classList.remove('colab-df-spinner');\n",
              "      quickchartButtonEl.classList.add('colab-df-quickchart-complete');\n",
              "    }\n",
              "    (() => {\n",
              "      let quickchartButtonEl =\n",
              "        document.querySelector('#df-396ee858-cbcd-4306-bd57-e9d7b9abd8e2 button');\n",
              "      quickchartButtonEl.style.display =\n",
              "        google.colab.kernel.accessAllowed ? 'block' : 'none';\n",
              "    })();\n",
              "  </script>\n",
              "</div>\n",
              "\n",
              "  <div id=\"id_2aaee705-c548-4f5c-ac76-f532c330278a\">\n",
              "    <style>\n",
              "      .colab-df-generate {\n",
              "        background-color: #E8F0FE;\n",
              "        border: none;\n",
              "        border-radius: 50%;\n",
              "        cursor: pointer;\n",
              "        display: none;\n",
              "        fill: #1967D2;\n",
              "        height: 32px;\n",
              "        padding: 0 0 0 0;\n",
              "        width: 32px;\n",
              "      }\n",
              "\n",
              "      .colab-df-generate:hover {\n",
              "        background-color: #E2EBFA;\n",
              "        box-shadow: 0px 1px 2px rgba(60, 64, 67, 0.3), 0px 1px 3px 1px rgba(60, 64, 67, 0.15);\n",
              "        fill: #174EA6;\n",
              "      }\n",
              "\n",
              "      [theme=dark] .colab-df-generate {\n",
              "        background-color: #3B4455;\n",
              "        fill: #D2E3FC;\n",
              "      }\n",
              "\n",
              "      [theme=dark] .colab-df-generate:hover {\n",
              "        background-color: #434B5C;\n",
              "        box-shadow: 0px 1px 3px 1px rgba(0, 0, 0, 0.15);\n",
              "        filter: drop-shadow(0px 1px 2px rgba(0, 0, 0, 0.3));\n",
              "        fill: #FFFFFF;\n",
              "      }\n",
              "    </style>\n",
              "    <button class=\"colab-df-generate\" onclick=\"generateWithVariable('df')\"\n",
              "            title=\"Generate code using this dataframe.\"\n",
              "            style=\"display:none;\">\n",
              "\n",
              "  <svg xmlns=\"http://www.w3.org/2000/svg\" height=\"24px\"viewBox=\"0 0 24 24\"\n",
              "       width=\"24px\">\n",
              "    <path d=\"M7,19H8.4L18.45,9,17,7.55,7,17.6ZM5,21V16.75L18.45,3.32a2,2,0,0,1,2.83,0l1.4,1.43a1.91,1.91,0,0,1,.58,1.4,1.91,1.91,0,0,1-.58,1.4L9.25,21ZM18.45,9,17,7.55Zm-12,3A5.31,5.31,0,0,0,4.9,8.1,5.31,5.31,0,0,0,1,6.5,5.31,5.31,0,0,0,4.9,4.9,5.31,5.31,0,0,0,6.5,1,5.31,5.31,0,0,0,8.1,4.9,5.31,5.31,0,0,0,12,6.5,5.46,5.46,0,0,0,6.5,12Z\"/>\n",
              "  </svg>\n",
              "    </button>\n",
              "    <script>\n",
              "      (() => {\n",
              "      const buttonEl =\n",
              "        document.querySelector('#id_2aaee705-c548-4f5c-ac76-f532c330278a button.colab-df-generate');\n",
              "      buttonEl.style.display =\n",
              "        google.colab.kernel.accessAllowed ? 'block' : 'none';\n",
              "\n",
              "      buttonEl.onclick = () => {\n",
              "        google.colab.notebook.generateWithVariable('df');\n",
              "      }\n",
              "      })();\n",
              "    </script>\n",
              "  </div>\n",
              "\n",
              "    </div>\n",
              "  </div>\n"
            ],
            "application/vnd.google.colaboratory.intrinsic+json": {
              "type": "dataframe",
              "variable_name": "df",
              "summary": "{\n  \"name\": \"df\",\n  \"rows\": 12468,\n  \"fields\": [\n    {\n      \"column\": \"question\",\n      \"properties\": {\n        \"dtype\": \"category\",\n        \"num_unique_values\": 5886,\n        \"samples\": [\n          \"what is on the corner of the room\",\n          \"what is border colour of floor mat\",\n          \"what is between the fan coil and the sofa\"\n        ],\n        \"semantic_type\": \"\",\n        \"description\": \"\"\n      }\n    },\n    {\n      \"column\": \"answer\",\n      \"properties\": {\n        \"dtype\": \"category\",\n        \"num_unique_values\": 1443,\n        \"samples\": [\n          \"monitor, paper, mouse, keyboard, box\",\n          \"laptop, books, headphones\",\n          \"telescope\"\n        ],\n        \"semantic_type\": \"\",\n        \"description\": \"\"\n      }\n    },\n    {\n      \"column\": \"image_id\",\n      \"properties\": {\n        \"dtype\": \"category\",\n        \"num_unique_values\": 1447,\n        \"samples\": [\n          \"image825\",\n          \"image86\",\n          \"image437\"\n        ],\n        \"semantic_type\": \"\",\n        \"description\": \"\"\n      }\n    }\n  ]\n}"
            }
          },
          "metadata": {},
          "execution_count": 7
        }
      ]
    },
    {
      "cell_type": "markdown",
      "source": [
        "ABOVE DATAFRAME SHOWS RESULT OF DATA PREPARATION. 12467 ROWS OF QUESITONS, THAT COVER THE RANGE OF 1449 IMAGES AND 582 UNIQUE ANSWERS"
      ],
      "metadata": {
        "id": "jz8dEAQSX9o5"
      },
      "id": "jz8dEAQSX9o5"
    },
    {
      "cell_type": "code",
      "source": [
        "len(answer_space)"
      ],
      "metadata": {
        "colab": {
          "base_uri": "https://localhost:8080/"
        },
        "id": "x8CiPkD3pdhh",
        "outputId": "96d070bd-7631-49d3-a032-91ac22fc38fd"
      },
      "id": "x8CiPkD3pdhh",
      "execution_count": null,
      "outputs": [
        {
          "output_type": "execute_result",
          "data": {
            "text/plain": [
              "582"
            ]
          },
          "metadata": {},
          "execution_count": 8
        }
      ]
    },
    {
      "cell_type": "code",
      "source": [
        "import pandas as pd\n",
        "import matplotlib.pyplot as plt\n",
        "\n",
        "df['answer'] = df['answer'].astype(str).str.strip().str.lower()\n",
        "\n",
        "# Count frequency of each unique answer\n",
        "answer_counts = df['answer'].value_counts()\n",
        "\n",
        "# Plot histogram of top N most common answers (e.g., top 50)\n",
        "top_n = 50\n",
        "plt.figure(figsize=(12, 6))\n",
        "answer_counts[:top_n].plot(kind='bar')\n",
        "plt.title(f'Top {top_n} Most Common Answers')\n",
        "plt.xlabel('Answer')\n",
        "plt.ylabel('Frequency')\n",
        "plt.xticks(rotation=45, ha='right')\n",
        "plt.tight_layout()\n",
        "plt.show()"
      ],
      "metadata": {
        "colab": {
          "base_uri": "https://localhost:8080/",
          "height": 440
        },
        "id": "vCUwM-5AsBuT",
        "outputId": "3f7fed8b-5259-4ca6-ec0f-4b0081eb55d1"
      },
      "id": "vCUwM-5AsBuT",
      "execution_count": null,
      "outputs": [
        {
          "output_type": "display_data",
          "data": {
            "text/plain": [
              "<Figure size 1200x600 with 1 Axes>"
            ],
            "image/png": "[encoded data removed]"
          },
          "metadata": {}
        }
      ]
    },
    {
      "cell_type": "code",
      "execution_count": null,
      "id": "27b4de8f",
      "metadata": {
        "colab": {
          "base_uri": "https://localhost:8080/"
        },
        "id": "27b4de8f",
        "outputId": "9034bdbb-330b-4559-c690-59e57a1eb211"
      },
      "outputs": [
        {
          "output_type": "stream",
          "name": "stdout",
          "text": [
            "Q: what is on the left side of the white oven on the floor and on right side of the blue armchair in the image1 ?\n",
            "A: garbage_bin\n",
            "----------------------------------------\n",
            "Q: what is on the left side of the fire extinguisher and on the right side of the chair in the image1 ?\n",
            "A: table\n",
            "----------------------------------------\n",
            "Q: what is between the the two white and black garbage bins in the image1 ?\n",
            "A: chair\n",
            "----------------------------------------\n",
            "Q: how many objects are between the fire extinguisher and the white oven on the floor in the image1 ?\n",
            "A: 3\n",
            "----------------------------------------\n",
            "Q: what is the largest object in this picture in the image1 ?\n",
            "A: washing_machine\n",
            "----------------------------------------\n"
          ]
        }
      ],
      "source": [
        "for i in range(0, 10, 2):  # look at 5 question/answer pairs\n",
        "    print(f\"Q: {qa_data[i]}\")\n",
        "    print(f\"A: {qa_data[i+1]}\")\n",
        "    print(\"-\" * 40)\n"
      ]
    },
    {
      "cell_type": "code",
      "execution_count": null,
      "id": "c31ebe34",
      "metadata": {
        "colab": {
          "base_uri": "https://localhost:8080/"
        },
        "id": "c31ebe34",
        "outputId": "72580e0b-4315-4eeb-e4d5-f9ab5505c36e"
      },
      "outputs": [
        {
          "output_type": "stream",
          "name": "stdout",
          "text": [
            "Q: what is on the right side of the wall on the top of the cabinet on the left side of the hole puncher in the image12 ?\n",
            "Match: [(' in the image12 ?', 'in ', 'the ', 'image12')]\n",
            "----------------------------------------\n",
            "Q: what color is the tape dispenser on the right side of the hole puncher in front of the wall in the image12 ?\n",
            "Match: [(' in the image12 ?', 'in ', 'the ', 'image12')]\n",
            "----------------------------------------\n",
            "Q: how many table fans are in this picture in the image13 ?\n",
            "Match: [(' in the image13 ?', 'in ', 'the ', 'image13')]\n",
            "----------------------------------------\n",
            "Q: what is the black and white object on the cabinet door between the pictures in the image13 ?\n",
            "Match: [(' in the image13 ?', 'in ', 'the ', 'image13')]\n",
            "----------------------------------------\n",
            "Q: what is in fornt of the window on the left side of the fan coil on the right side of the wall in the image14 ?\n",
            "Match: [(' in the image14 ?', 'in ', 'the ', 'image14')]\n",
            "----------------------------------------\n"
          ]
        }
      ],
      "source": [
        "import re\n",
        "\n",
        "image_pattern = re.compile(r\"( (in |on |of )?(the |this )?(image\\d*) \\?)\")\n",
        "\n",
        "for i in range(100, 110, 2):\n",
        "    match = image_pattern.findall(qa_data[i])\n",
        "    print(f\"Q: {qa_data[i]}\")\n",
        "    print(f\"Match: {match}\")\n",
        "    print(\"-\" * 40)\n"
      ]
    },
    {
      "cell_type": "code",
      "source": [],
      "metadata": {
        "id": "bytdrb-Y7L84"
      },
      "id": "bytdrb-Y7L84",
      "execution_count": null,
      "outputs": []
    },
    {
      "cell_type": "code",
      "execution_count": null,
      "id": "VeFvmlWWQN-l",
      "metadata": {
        "id": "VeFvmlWWQN-l"
      },
      "outputs": [],
      "source": [
        "from datasets import load_dataset\n",
        "import os\n",
        "\n",
        "# Define the base directory (your dataset folder in Google Drive)\n",
        "base_dir = \"/content/drive/MyDrive/FinalProject/dataset\"\n",
        "\n",
        "# Load the training & evaluation dataset from CSV files\n",
        "dataset = load_dataset(\n",
        "    \"csv\",\n",
        "    data_files={\n",
        "        \"train\": os.path.join(base_dir, \"data_train.csv\"),\n",
        "\n",
        "\n",
        "\n",
        "        \"test\": os.path.join(base_dir, \"data_eval.csv\")\n",
        "    }\n",
        ")\n",
        "\n",
        "# Load the list of all possible answers\n",
        "with open(os.path.join(base_dir, \"answer_space.txt\"), \"r\", encoding=\"utf-8\") as f:\n",
        "    answer_space = f.read().splitlines()\n",
        "\n",
        "# Map textual answers to label indices (for classification)\n",
        "dataset = dataset.map(\n",
        "    lambda examples: {\n",
        "        'label': [\n",
        "            answer_space.index(ans.replace(\" \", \"\").split(\",\")[0])\n",
        "            for ans in examples['answer']\n",
        "        ]\n",
        "    },\n",
        "    batched=True\n",
        ")\n"
      ]
    },
    {
      "cell_type": "markdown",
      "source": [
        "This part of the code is responsible for loading the training and testing data from CSV files and preparing it for use in a machine learning model."
      ],
      "metadata": {
        "id": "T-vcghKDbC18"
      },
      "id": "T-vcghKDbC18"
    },
    {
      "cell_type": "code",
      "source": [],
      "metadata": {
        "id": "EEQ2A9p27Q47"
      },
      "id": "EEQ2A9p27Q47",
      "execution_count": null,
      "outputs": []
    },
    {
      "cell_type": "markdown",
      "source": [
        "Following code defines showExample() that displays a random example dataset. This example includes an image, the question about the image, and the corresponding answer."
      ],
      "metadata": {
        "id": "crD8_-2SbL5s"
      },
      "id": "crD8_-2SbL5s"
    },
    {
      "cell_type": "code",
      "execution_count": 1,
      "id": "pPbNmR7xQgVW",
      "metadata": {
        "colab": {
          "base_uri": "https://localhost:8080/",
          "height": 297
        },
        "id": "pPbNmR7xQgVW",
        "outputId": "4c8a6f32-6264-4935-f7b0-e8bdf07c6668"
      },
      "outputs": [
        {
          "output_type": "error",
          "ename": "NameError",
          "evalue": "name 'dataset' is not defined",
          "traceback": [
            "\u001b[0;31m---------------------------------------------------------------------------\u001b[0m",
            "\u001b[0;31mNameError\u001b[0m                                 Traceback (most recent call last)",
            "\u001b[0;32m<ipython-input-1-eafa99eecdba>\u001b[0m in \u001b[0;36m<cell line: 0>\u001b[0;34m()\u001b[0m\n\u001b[1;32m     30\u001b[0m \u001b[0;34m\u001b[0m\u001b[0m\n\u001b[1;32m     31\u001b[0m \u001b[0;31m# Show a random training example\u001b[0m\u001b[0;34m\u001b[0m\u001b[0;34m\u001b[0m\u001b[0m\n\u001b[0;32m---> 32\u001b[0;31m \u001b[0mshowExample\u001b[0m\u001b[0;34m(\u001b[0m\u001b[0;34m)\u001b[0m\u001b[0;34m\u001b[0m\u001b[0;34m\u001b[0m\u001b[0m\n\u001b[0m",
            "\u001b[0;32m<ipython-input-1-eafa99eecdba>\u001b[0m in \u001b[0;36mshowExample\u001b[0;34m(train, id)\u001b[0m\n\u001b[1;32m      9\u001b[0m \u001b[0;32mdef\u001b[0m \u001b[0mshowExample\u001b[0m\u001b[0;34m(\u001b[0m\u001b[0mtrain\u001b[0m\u001b[0;34m=\u001b[0m\u001b[0;32mTrue\u001b[0m\u001b[0;34m,\u001b[0m \u001b[0mid\u001b[0m\u001b[0;34m=\u001b[0m\u001b[0;32mNone\u001b[0m\u001b[0;34m)\u001b[0m\u001b[0;34m:\u001b[0m\u001b[0;34m\u001b[0m\u001b[0;34m\u001b[0m\u001b[0m\n\u001b[1;32m     10\u001b[0m     \u001b[0;32mif\u001b[0m \u001b[0mtrain\u001b[0m\u001b[0;34m:\u001b[0m\u001b[0;34m\u001b[0m\u001b[0;34m\u001b[0m\u001b[0m\n\u001b[0;32m---> 11\u001b[0;31m         \u001b[0mdata\u001b[0m \u001b[0;34m=\u001b[0m \u001b[0mdataset\u001b[0m\u001b[0;34m[\u001b[0m\u001b[0;34m\"train\"\u001b[0m\u001b[0;34m]\u001b[0m\u001b[0;34m\u001b[0m\u001b[0;34m\u001b[0m\u001b[0m\n\u001b[0m\u001b[1;32m     12\u001b[0m     \u001b[0;32melse\u001b[0m\u001b[0;34m:\u001b[0m\u001b[0;34m\u001b[0m\u001b[0;34m\u001b[0m\u001b[0m\n\u001b[1;32m     13\u001b[0m         \u001b[0mdata\u001b[0m \u001b[0;34m=\u001b[0m \u001b[0mdataset\u001b[0m\u001b[0;34m[\u001b[0m\u001b[0;34m\"test\"\u001b[0m\u001b[0;34m]\u001b[0m\u001b[0;34m\u001b[0m\u001b[0;34m\u001b[0m\u001b[0m\n",
            "\u001b[0;31mNameError\u001b[0m: name 'dataset' is not defined"
          ]
        }
      ],
      "source": [
        "from IPython.display import display\n",
        "from PIL import Image\n",
        "import numpy as np\n",
        "import os\n",
        "\n",
        "# Set the correct image directory in Google Drive\n",
        "image_dir = \"/content/drive/MyDrive/FinalProject/dataset/images\"\n",
        "\n",
        "def showExample(train=True, id=None):\n",
        "    if train:\n",
        "        data = dataset[\"train\"]\n",
        "    else:\n",
        "        data = dataset[\"test\"]\n",
        "\n",
        "    if id is None:\n",
        "        id = np.random.randint(len(data))\n",
        "\n",
        "    img_path = os.path.join(image_dir, data[id][\"image_id\"] + \".png\")\n",
        "\n",
        "    if not os.path.exists(img_path):\n",
        "        print(f\"⚠️ Image not found at: {img_path}\")\n",
        "        return\n",
        "\n",
        "    print(f\"✅ Found image at: {os.path.abspath(img_path)}\")\n",
        "    image = Image.open(img_path)\n",
        "    display(image)\n",
        "\n",
        "    print(\"Question:\\t\", data[id][\"question\"])\n",
        "    print(\"Answer:\\t\\t\", data[id][\"answer\"], f\"(Label: {data[id]['label']})\")\n",
        "\n",
        "# Show a random training example\n",
        "showExample()\n"
      ]
    },
    {
      "cell_type": "markdown",
      "id": "01c66556",
      "metadata": {
        "id": "01c66556"
      },
      "source": [
        "### adjust folder structure as required.\n",
        "ReGex() deposites answer_space.txt & data_train & data_eval in ...__workingFolder__/dataset/images\n",
        "\n",
        "ShowExample() is looking for images at **workingFolder.parent**/dataset/images"
      ]
    },
    {
      "cell_type": "code",
      "execution_count": null,
      "id": "bigl0Nh2RU0Q",
      "metadata": {
        "id": "bigl0Nh2RU0Q"
      },
      "outputs": [],
      "source": [
        "from dataclasses import dataclass\n",
        "from typing import List, Union\n",
        "from PIL import Image\n",
        "import torch\n",
        "import os\n",
        "\n",
        "'''\n",
        "Defines class called mulitmodal collator which encodes/tokenizes text and images.\n",
        "advance of transformers\n",
        "'''\n",
        "\n",
        "\n",
        "\n",
        "@dataclass\n",
        "class MultimodalCollator:\n",
        "    tokenizer: AutoTokenizer\n",
        "    preprocessor: AutoFeatureExtractor\n",
        "    image_dir: str  # ✅ add image_dir as a configurable path\n",
        "\n",
        "    def tokenize_text(self, texts: List[str]):\n",
        "        encoded_text = self.tokenizer(\n",
        "            text=texts,\n",
        "            padding='longest',\n",
        "            max_length=24,\n",
        "            truncation=True,\n",
        "            return_tensors='pt',\n",
        "            return_token_type_ids=True,\n",
        "            return_attention_mask=True,\n",
        "        )\n",
        "        return {\n",
        "            \"input_ids\": encoded_text['input_ids'],\n",
        "            \"token_type_ids\": encoded_text['token_type_ids'],\n",
        "            \"attention_mask\": encoded_text['attention_mask'],\n",
        "        }\n",
        "\n",
        "    def preprocess_images(self, images: List[str]):\n",
        "        # ✅ Read from provided image_dir\n",
        "        processed_images = self.preprocessor(\n",
        "            images=[\n",
        "                Image.open(os.path.join(self.image_dir, image_id + \".png\")).convert('RGB')\n",
        "                for image_id in images\n",
        "            ],\n",
        "            return_tensors=\"pt\",\n",
        "        )\n",
        "        return {\n",
        "            \"pixel_values\": processed_images['pixel_values'],\n",
        "        }\n",
        "\n",
        "'''\n",
        "__call__ is when the MultimodalCollator is used to prepare a batch of data.\n",
        "It takes a raw_batch_dict as input, each containing information about a single data point.\n",
        "It extracts the question, image_id, and label (answer) from the dictionary.\n",
        "It then calls tokenize_text and preprocess_images to process the text and images,respectively.\n",
        "Finally, it combines the results into a single dictionary containing the tokenized text,\n",
        "processed images, and labels, ready to be fed to the model.\n",
        "'''\n",
        "\n",
        "    def __call__(self, raw_batch_dict: Union[dict, List[dict]]):\n",
        "        # Normalize format to list of dicts\n",
        "        if isinstance(raw_batch_dict, dict):\n",
        "            questions = raw_batch_dict['question']\n",
        "            image_ids = raw_batch_dict['image_id']\n",
        "            labels = raw_batch_dict['label']\n",
        "        else:\n",
        "            questions = [i['question'] for i in raw_batch_dict]\n",
        "            image_ids = [i['image_id'] for i in raw_batch_dict]\n",
        "            labels = [i['label'] for i in raw_batch_dict]\n",
        "\n",
        "        return {\n",
        "            **self.tokenize_text(questions),\n",
        "            **self.preprocess_images(image_ids),\n",
        "            'labels': torch.tensor(labels, dtype=torch.int64),\n",
        "        }\n"
      ]
    },
    {
      "cell_type": "code",
      "execution_count": null,
      "id": "m0T3xWzzRyfq",
      "metadata": {
        "id": "m0T3xWzzRyfq"
      },
      "outputs": [],
      "source": [
        "import torch\n",
        "import torch.nn as nn\n",
        "from transformers import AutoModel\n",
        "from typing import Optional\n",
        "\n",
        "'''\n",
        "The MultimodalVQAModel takes a question and an image as input.\n",
        "It uses pre-trained models to extract features from both, combines these features,\n",
        "and then predicts the answer to the question based on the combined information.\n",
        "This architecture is typical for VQA tasks, where the goal is to understand both\n",
        "visual and textual information to provide accurate answers.\n",
        "'''\n",
        "\n",
        "class MultimodalVQAModel(nn.Module):  #Defining Mu-Mo-VQA model is per PyTorch base class nn.Module\n",
        "    def __init__(\n",
        "        self,\n",
        "        pretrained_text_name: str,\n",
        "        pretrained_image_name: str,\n",
        "        num_labels: int,\n",
        "        intermediate_dim: int = 512,  # increase to reduce overfitting can modify to 1024\n",
        "        dropout: float = 0.5          # prevents overfitting, can decrease to 0.1.\n",
        "    ):\n",
        "        super(MultimodalVQAModel, self).__init__()\n",
        "\n",
        "        self.num_labels = num_labels  #length of answer space\n",
        "        self.text_encoder = AutoModel.from_pretrained(pretrained_text_name)\n",
        "        self.image_encoder = AutoModel.from_pretrained(pretrained_image_name)\n",
        "\n",
        "        # Fallback if pooler_output doesn't exist (e.g., in ViT)\n",
        "        self.use_pooler_text = hasattr(self.text_encoder.config, \"pooler_fc_size\")\n",
        "        self.use_pooler_image = hasattr(self.image_encoder.config, \"pooler_fc_size\")\n",
        "\n",
        "        # Fusion + Classification layers\n",
        "        # linear transformation, activation function (ReLU), dropout regularization\n",
        "        # Integrates the ombined features comprehensive representation\n",
        "        self.fusion = nn.Sequential(\n",
        "            nn.Linear(\n",
        "                self.text_encoder.config.hidden_size + self.image_encoder.config.hidden_size,\n",
        "                intermediate_dim\n",
        "            ),\n",
        "            # nn.BatchNorm1d(intermediate_dim),  # Add Batch Normalization\n",
        "            nn.ReLU(),            # alt nn.LeakyReLU, nn.GELU, or nn.ELU\n",
        "            nn.Dropout(dropout),\n",
        "        )\n",
        "\n",
        "        self.classifier = nn.Linear(intermediate_dim, self.num_labels)\n",
        "        self.criterion = nn.CrossEntropyLoss()\n",
        "'''\n",
        "forward() Defines how the model processes data during training and inference.\n",
        "  input_ids: Tokenized representation of the question.\n",
        "  pixel_values: Processed image data.\n",
        "  attention_mask: Indicates which tokens in the question are relevant.\n",
        "  token_type_ids: Distinguishes between different segments of text (if applicable).\n",
        "  labels: The correct answer (used during training).\n",
        "'''\n",
        "    def forward(\n",
        "        self,\n",
        "        input_ids: torch.LongTensor,\n",
        "        pixel_values: torch.FloatTensor,\n",
        "        attention_mask: Optional[torch.LongTensor] = None,\n",
        "        token_type_ids: Optional[torch.LongTensor] = None,\n",
        "        labels: Optional[torch.LongTensor] = None\n",
        "    ):\n",
        "        # Encode text\n",
        "        text_output = self.text_encoder(\n",
        "            input_ids=input_ids,\n",
        "            attention_mask=attention_mask,\n",
        "            token_type_ids=token_type_ids,\n",
        "            return_dict=True,\n",
        "        )\n",
        "        if \"pooler_output\" in text_output:          # not all pre-trained models have pooling, BERT has\n",
        "            text_feat = text_output.pooler_output   # model to handle different pre-trained encoders by checking\n",
        "        else:\n",
        "            text_feat = text_output.last_hidden_state[:, 0]  # CLS token fallback\n",
        "\n",
        "        # Encode image\n",
        "        image_output = self.image_encoder(\n",
        "            pixel_values=pixel_values,\n",
        "            return_dict=True,\n",
        "        )\n",
        "        if \"pooler_output\" in image_output:\n",
        "            image_feat = image_output.pooler_output\n",
        "        else:\n",
        "            image_feat = image_output.last_hidden_state[:, 0]  # CLS token fallback\n",
        "\n",
        "        # Fuse + classify\n",
        "        fused = self.fusion(torch.cat([text_feat, image_feat], dim=1))\n",
        "        logits = self.classifier(fused)\n",
        "\n",
        "        output = {\"logits\": logits}\n",
        "        if labels is not None:\n",
        "            output[\"loss\"] = self.criterion(logits, labels)\n",
        "\n",
        "        return output\n"
      ]
    },
    {
      "cell_type": "code",
      "source": [],
      "metadata": {
        "id": "n9TnodqFTiXX"
      },
      "id": "n9TnodqFTiXX",
      "execution_count": null,
      "outputs": []
    },
    {
      "cell_type": "code",
      "execution_count": null,
      "id": "F-hf2KpwR7vL",
      "metadata": {
        "id": "F-hf2KpwR7vL"
      },
      "outputs": [],
      "source": [
        "from transformers import AutoTokenizer, AutoImageProcessor  # use ImageProcessor (not deprecated)\n",
        "import torch\n",
        "\n",
        "'''\n",
        "set up components for VQA\n",
        "  MultiModal_collator: prepares input\n",
        "  multimodal_model: defines model architecture\n",
        "\n",
        "tokenizer: An object from the transformers library that is used to convert\n",
        "  text (questions) into numerical representations that the text model (bert-base-uncased in\n",
        "  this case) can understand.\n",
        "\n",
        "preprocessor: This object is also from transformers and handles the preprocessing of\n",
        "  images before they are fed to the image model (facebook/deit-base-patch16-224).\n",
        "\n",
        "It creates an instance of your MultimodalVQAModel class (again, defined elsewhere). This is the core of your VQA system. It takes:\n",
        "The names of the pre-trained text and image models.\n",
        "The number of possible answers (derived from the answer_space).\n",
        "The .to(device) part ensures that the model is placed on the chosen computing device (CPU or GPU).\n",
        "\n",
        "'''\n",
        "\n",
        "def createMultimodalVQACollatorAndModel(\n",
        "    text=\"bert-base-uncased\",\n",
        "    image=\"facebook/deit-base-patch16-224\",\n",
        "    image_dir=\"/content/drive/MyDrive/FinalProject/dataset/images\",\n",
        "    answer_space=None,  # pass in answer_space list here\n",
        "    device=None\n",
        "):\n",
        "    if answer_space is None:\n",
        "        raise ValueError(\"answer_space must be provided to set the number of classification labels.\")\n",
        "\n",
        "    if device is None:\n",
        "        device = torch.device(\"cuda\" if torch.cuda.is_available() else \"cpu\")\n",
        "\n",
        "    # Initialize tokenizer and image processor\n",
        "    tokenizer = AutoTokenizer.from_pretrained(text)\n",
        "    preprocessor = AutoImageProcessor.from_pretrained(image)\n",
        "\n",
        "    # Create collator with image_dir\n",
        "    multimodal_collator = MultimodalCollator(\n",
        "        tokenizer=tokenizer,\n",
        "        preprocessor=preprocessor,\n",
        "        image_dir=image_dir\n",
        "    )\n",
        "\n",
        "    # Initialize model with number of labels\n",
        "    multimodal_model = MultimodalVQAModel(\n",
        "        pretrained_text_name=text,\n",
        "        pretrained_image_name=image,\n",
        "        num_labels=len(answer_space)\n",
        "    ).to(device)\n",
        "\n",
        "    return multimodal_collator, multimodal_model\n"
      ]
    },
    {
      "cell_type": "code",
      "source": [
        "from nltk.corpus import wordnet as wn\n",
        "\n",
        "\n",
        "'''\n",
        "This code defines a function called wup_measure which calculates the semantic similarity\n",
        "between two words (a and b) using the Wu-Palmer similarity measure.\n",
        "This measure is based on the WordNet lexical database.\n",
        "\n",
        "\n",
        " This code uses the WordNet database to find the semantic relationship between two\n",
        " words and quantifies their similarity based on their position in the WordNet hierarchy.\n",
        "'''\n",
        "\n",
        "# Define wup_measure Function: This function takes two words (a, b)\n",
        "# and an optional similarity_threshold as input.\n",
        "# This function uses wn.synsets to get all the synonym sets (synsets) for the\n",
        "# word a, considering only nouns (pos=wn.NOUN).\n",
        "# It returns the synsets and a weight (currently set to 1.0).\n",
        "\n",
        "\n",
        "\n",
        "def wup_measure(a, b, similarity_threshold=0.925):\n",
        "    def get_semantic_field(a):\n",
        "        weight = 1.0\n",
        "        semantic_field = wn.synsets(a, pos=wn.NOUN)\n",
        "        return (semantic_field, weight)\n",
        "\n",
        "    def get_stem_word(a):\n",
        "        weight = 1.0\n",
        "        return (a, weight)\n",
        "\n",
        "    global_weight = 1.0\n",
        "    (a, global_weight_a) = get_stem_word(a)\n",
        "    (b, global_weight_b) = get_stem_word(b)\n",
        "    global_weight = min(global_weight_a, global_weight_b)\n",
        "\n",
        "    if a == b:\n",
        "        return 1.0 * global_weight\n",
        "    if a == [] or b == []:\n",
        "        return 0\n",
        "\n",
        "    interp_a, weight_a = get_semantic_field(a)\n",
        "    interp_b, weight_b = get_semantic_field(b)\n",
        "\n",
        "    if interp_a == [] or interp_b == []:\n",
        "        return 0\n",
        "\n",
        "  # Calculate Similarity: Initial Checks: If the words are identical (a == b),\n",
        "  # it returns 1.0 (maximum similarity). If either word is empty, it returns 0.\n",
        "  # Get Semantic Fields: Calls get_semantic_field to retrieve the synsets for both words.\n",
        "\n",
        "  # Iterate and Compare: It iterates through all synset pairs for the two words\n",
        "  # and calculates their Wu-Palmer similarity using x.wup_similarity(y).\n",
        "  # It stores the maximum similarity found in global_max.\n",
        "    global_max = 0.0\n",
        "    for x in interp_a:\n",
        "        for y in interp_b:\n",
        "            local_score = x.wup_similarity(y)\n",
        "            if local_score and local_score > global_max:\n",
        "                global_max = local_score\n",
        "  # Apply Threshold: If the maximum similarity is above the similarity_threshold,\n",
        "  # it assigns a weight of 1.0; otherwise, it assigns a lower weight of 0.1.\n",
        "    interp_weight = 1.0 if global_max >= similarity_threshold else 0.1\n",
        "    #Calculates the final similarity score by multiplying the maximum similarity with various weights.\n",
        "    final_score = global_max * weight_a * weight_b * interp_weight * global_weight\n",
        "    return final_score  # returns the calculated Wu-Palmer similarity score between the two words.\n"
      ],
      "metadata": {
        "id": "rMvIal8Ff56F"
      },
      "id": "rMvIal8Ff56F",
      "execution_count": null,
      "outputs": []
    },
    {
      "cell_type": "code",
      "source": [
        "'''\n",
        "# Wrapper around the wup_measure function for batch evaluation\n",
        "def batch_wup_measure(labels, preds):\n",
        "    return np.mean([\n",
        "        wup_measure(answer_space[label], answer_space[pred])\n",
        "        for label, pred in zip(labels, preds)\n",
        "    ])\n",
        "\n",
        "# Hugging Face Trainer expects a dict output from compute_metrics\n",
        "\n",
        "def compute_metrics(eval_preds) -> Dict[str, float]:\n",
        "    logits, labels = eval_preds\n",
        "    preds = np.argmax(logits, axis=-1)\n",
        "\n",
        "    return {\n",
        "        \"wups\": batch_wup_measure(labels, preds),\n",
        "        \"acc\": accuracy_score(labels, preds),\n",
        "        \"f1\": f1_score(labels, preds, average='macro')\n",
        "    }\n",
        "'''\n"
      ],
      "metadata": {
        "id": "AmdZMgbV8BlQ"
      },
      "id": "AmdZMgbV8BlQ",
      "execution_count": null,
      "outputs": []
    },
    {
      "cell_type": "code",
      "source": [
        "import numpy as np\n",
        "from typing import Dict\n",
        "from sklearn.metrics import accuracy_score, f1_score\n",
        "\n",
        "\n",
        "'''\n",
        "    The function returns a dictionary containing the calculated metrics\n",
        "    \"wups\": The average Wu-Palmer similarity score.\n",
        "    \"acc\": The accuracy.\n",
        "    \"f1\": The macro-averaged F1 score.\n",
        "\n",
        "    eval_preds: This is the output from the model's evaluation step. It contains:\n",
        "    logits: Raw predictions from the model.\n",
        "    labels: The true answers for the evaluation data.\n",
        "    answer_space: A list containing all possible answers.\n",
        "'''\n",
        "def compute_metrics(eval_preds, answer_space) -> Dict[str, float]:\n",
        "    logits, labels = eval_preds\n",
        "    preds = np.argmax(logits, axis=-1)\n",
        "\n",
        "    def batch_wup_measure(labels, preds):\n",
        "        return np.mean([\n",
        "            wup_measure(answer_space[label], answer_space[pred])\n",
        "            for label, pred in zip(labels, preds)\n",
        "        ])\n",
        "\n",
        "    return {\n",
        "        \"wups\": batch_wup_measure(labels, preds),\n",
        "        \"acc\": accuracy_score(labels, preds),\n",
        "        \"f1\": f1_score(labels, preds, average='macro')\n",
        "    }\n"
      ],
      "metadata": {
        "id": "PXvMLajagD8H"
      },
      "id": "PXvMLajagD8H",
      "execution_count": null,
      "outputs": []
    },
    {
      "cell_type": "code",
      "source": [
        "\n",
        "\n",
        "\n",
        "from functools import partial\n",
        "compute_metrics_with_answer_space = partial(compute_metrics, answer_space=answer_space)\n"
      ],
      "metadata": {
        "id": "VEV-dWaigpNN"
      },
      "id": "VEV-dWaigpNN",
      "execution_count": null,
      "outputs": []
    },
    {
      "cell_type": "code",
      "execution_count": null,
      "id": "1IbJv5c-Sj7n",
      "metadata": {
        "colab": {
          "base_uri": "https://localhost:8080/",
          "height": 105
        },
        "id": "1IbJv5c-Sj7n",
        "outputId": "a42266b7-6230-4417-d08c-a914b6563c16"
      },
      "outputs": [
        {
          "output_type": "execute_result",
          "data": {
            "text/plain": [
              "\"\\n# Subsample just 500 examples for dev training\\n# Added to expedite training iterations and debugging\\n# small_train = dataset['train'].select(range(1000))\\n# small_eval = dataset['test'].select(range(100))\\n\\n\\n# Initialize for Subsampled training data\\nmulti_trainer = Trainer(\\n    model=model,\\n    args=multi_args,\\n    train_dataset=small_train,\\n    eval_dataset=small_eval,\\n    data_collator=collator,\\n    compute_metrics=compute_metrics_with_answer_space\\n)\\n\\n\""
            ],
            "application/vnd.google.colaboratory.intrinsic+json": {
              "type": "string"
            }
          },
          "metadata": {},
          "execution_count": 37
        }
      ],
      "source": [
        "from transformers import TrainingArguments, Trainer\n",
        "import torch\n",
        "\n",
        "'''\n",
        "code snippet focuses on setting up and configuring the training process for\n",
        "a multimodal Visual Question Answering (VQA) model\n",
        "\n",
        "  It defines the model, configures training parameters, prepares the data,\n",
        "  and uses the Hugging Face Trainer to manage the training process.\n",
        "  The commented-out section provides an option for subsampling the data during development.\n",
        "  It imports necessary modules from the transformers library: TrainingArguments\n",
        "  for configuring the training process and Trainer for managing the training loop.\n",
        "  torch is imported for PyTorch operations.\n",
        "  device is set to use a GPU if available (cuda), otherwise it defaults to the CPU.\n",
        "\n",
        "'''\n",
        "\n",
        "# Set device\n",
        "device = torch.device(\"cuda\" if torch.cuda.is_available() else \"cpu\")\n",
        "\n",
        "# Image directory and answer space from earlier\n",
        "image_dir = \"/content/drive/MyDrive/FinalProject/dataset/images\"\n",
        "\n",
        "# Initialize collator and model\n",
        "collator, model = createMultimodalVQACollatorAndModel(\n",
        "    text=\"bert-base-uncased\",\n",
        "    image=\"facebook/deit-base-patch16-224\",\n",
        "    image_dir=image_dir,\n",
        "    answer_space=answer_space,\n",
        "    device=device\n",
        ")\n",
        "\n",
        "# Define training arguments\n",
        "multi_args = TrainingArguments(\n",
        "    output_dir=\"checkpoint\",\n",
        "    run_name=\"multimodal-vqa-run\",\n",
        "    seed=12345,\n",
        "    eval_strategy=\"steps\",             # ✅ updated from deprecated\n",
        "    eval_steps=100,                     # how often to evaluate the model during training\n",
        "    logging_strategy=\"steps\",\n",
        "    logging_steps=100,                  # how often to log training progress\n",
        "    save_strategy=\"steps\",\n",
        "  save_steps=100,                       # How often to save model checkpoints\n",
        "    save_total_limit=3,                 # max no. checkpoints to keep\n",
        "    metric_for_best_model='wups',       # Wu-Palmer similarity\n",
        "    per_device_train_batch_size=32,\n",
        "    per_device_eval_batch_size=32,\n",
        "    remove_unused_columns=False,\n",
        "    num_train_epochs=5, # no. of training epochs resuced to expedite debugging\n",
        "    #num_train_epochs=5,\n",
        "    fp16=True,\n",
        "    dataloader_num_workers=2,          # ✅ better for Colab\n",
        "    load_best_model_at_end=True\n",
        ")\n",
        "\n",
        "# Wrap compute_metrics so it includes answer_space\n",
        "def compute_metrics_with_answer_space(eval_preds):\n",
        "    return compute_metrics(eval_preds, answer_space=answer_space)\n",
        "\n",
        "# Initialize Trainer\n",
        "\n",
        "multi_trainer = Trainer(\n",
        "    model=model,\n",
        "    args=multi_args,\n",
        "    train_dataset=dataset['train'],\n",
        "    eval_dataset=dataset['test'],\n",
        "    data_collator=collator,\n",
        "    compute_metrics=compute_metrics_with_answer_space\n",
        ")\n",
        "'''\n",
        "This commented-out section suggests a way to subsample the dataset for faster debugging and development.\n",
        "It selects a smaller portion of the training and evaluation datasets using dataset.select.\n",
        "\n",
        "# Subsample just 500 examples for dev training\n",
        "# Added to expedite training iterations and debugging\n",
        "# small_train = dataset['train'].select(range(1000))\n",
        "# small_eval = dataset['test'].select(range(100))\n",
        "\n",
        "\n",
        "# Initialize for Subsampled training data\n",
        "multi_trainer = Trainer(\n",
        "    model=model,\n",
        "    args=multi_args,\n",
        "    train_dataset=small_train,\n",
        "    eval_dataset=small_eval,\n",
        "    data_collator=collator,\n",
        "    compute_metrics=compute_metrics_with_answer_space\n",
        ")\n",
        "\n",
        "'''\n"
      ]
    },
    {
      "cell_type": "markdown",
      "source": [
        "{'train_runtime': 1418.6621, 'train_samples_per_second': 0.352, 'train_steps_per_second': 0.011, 'train_loss': 6.34664249420166, 'epoch': 1.0}\n",
        "{'eval_loss': 6.281841278076172, 'eval_wups': 0.036554113507751285, 'eval_acc': 0.01, 'eval_f1': 0.005714285714285714, 'eval_runtime': 88.4896, 'eval_samples_per_second': 1.13, 'eval_steps_per_second': 0.045, 'epoch': 1.0}\n"
      ],
      "metadata": {
        "id": "EaeM0ZHRYqNQ"
      },
      "id": "EaeM0ZHRYqNQ"
    },
    {
      "cell_type": "code",
      "source": [
        "# Start training\n",
        "train_multi_metrics = multi_trainer.train()\n",
        "\n",
        "# Final evaluation\n",
        "eval_multi_metrics = multi_trainer.evaluate()"
      ],
      "metadata": {
        "id": "huIHk6t0YgOb",
        "colab": {
          "base_uri": "https://localhost:8080/"
        },
        "outputId": "00dd116d-7b76-439b-8316-c1a38270bec5"
      },
      "id": "huIHk6t0YgOb",
      "execution_count": null,
      "outputs": [
        {
          "output_type": "stream",
          "name": "stdout",
          "text": [
            "{'loss': 3.1162, 'grad_norm': 5.987020969390869, 'learning_rate': 4.67948717948718e-05, 'epoch': 0.32051282051282054}\n",
            "{'eval_loss': 3.494628429412842, 'eval_wups': 0.2974338212550611, 'eval_acc': 0.24779470729751404, 'eval_f1': 0.039544824725572046, 'eval_runtime': 25.6, 'eval_samples_per_second': 97.422, 'eval_steps_per_second': 3.047, 'epoch': 0.32051282051282054}\n",
            "{'loss': 3.1143, 'grad_norm': 7.072731971740723, 'learning_rate': 4.358974358974359e-05, 'epoch': 0.6410256410256411}\n",
            "{'eval_loss': 3.4401369094848633, 'eval_wups': 0.2980150662093803, 'eval_acc': 0.24819566960705694, 'eval_f1': 0.04086590797825231, 'eval_runtime': 25.2454, 'eval_samples_per_second': 98.79, 'eval_steps_per_second': 3.09, 'epoch': 0.6410256410256411}\n",
            "{'loss': 3.1353, 'grad_norm': 8.184615135192871, 'learning_rate': 4.038461538461539e-05, 'epoch': 0.9615384615384616}\n",
            "{'eval_loss': 3.427548885345459, 'eval_wups': 0.3047659834963698, 'eval_acc': 0.25821972734562953, 'eval_f1': 0.041184890038558415, 'eval_runtime': 24.7754, 'eval_samples_per_second': 100.664, 'eval_steps_per_second': 3.148, 'epoch': 0.9615384615384616}\n",
            "{'loss': 2.7945, 'grad_norm': 6.636237144470215, 'learning_rate': 3.717948717948718e-05, 'epoch': 1.282051282051282}\n",
            "{'eval_loss': 3.4362361431121826, 'eval_wups': 0.3083092949400282, 'eval_acc': 0.2598235765838011, 'eval_f1': 0.04892914211677334, 'eval_runtime': 25.2359, 'eval_samples_per_second': 98.828, 'eval_steps_per_second': 3.091, 'epoch': 1.282051282051282}\n",
            "{'loss': 2.9271, 'grad_norm': 6.557736873626709, 'learning_rate': 3.397435897435898e-05, 'epoch': 1.6025641025641026}\n",
            "{'eval_loss': 3.40671443939209, 'eval_wups': 0.312565030587613, 'eval_acc': 0.26583801122694467, 'eval_f1': 0.04707333285681413, 'eval_runtime': 25.1092, 'eval_samples_per_second': 99.326, 'eval_steps_per_second': 3.106, 'epoch': 1.6025641025641026}\n",
            "{'loss': 2.9136, 'grad_norm': 7.122446060180664, 'learning_rate': 3.0769230769230774e-05, 'epoch': 1.9230769230769231}\n",
            "{'eval_loss': 3.373577833175659, 'eval_wups': 0.3077089090922366, 'eval_acc': 0.2610264635124298, 'eval_f1': 0.04761640403233309, 'eval_runtime': 25.5824, 'eval_samples_per_second': 97.489, 'eval_steps_per_second': 3.049, 'epoch': 1.9230769230769231}\n",
            "{'loss': 2.7402, 'grad_norm': 7.173069953918457, 'learning_rate': 2.756410256410257e-05, 'epoch': 2.2435897435897436}\n",
            "{'eval_loss': 3.3808648586273193, 'eval_wups': 0.3097065517005872, 'eval_acc': 0.26423416198877303, 'eval_f1': 0.047812149234184885, 'eval_runtime': 25.1163, 'eval_samples_per_second': 99.298, 'eval_steps_per_second': 3.106, 'epoch': 2.2435897435897436}\n",
            "{'loss': 2.6409, 'grad_norm': 7.344696998596191, 'learning_rate': 2.435897435897436e-05, 'epoch': 2.564102564102564}\n",
            "{'eval_loss': 3.3679182529449463, 'eval_wups': 0.3150571827295461, 'eval_acc': 0.268644747393745, 'eval_f1': 0.053611242335556746, 'eval_runtime': 25.1719, 'eval_samples_per_second': 99.079, 'eval_steps_per_second': 3.099, 'epoch': 2.564102564102564}\n",
            "{'loss': 2.6816, 'grad_norm': 6.66422176361084, 'learning_rate': 2.1153846153846154e-05, 'epoch': 2.8846153846153846}\n",
            "{'eval_loss': 3.3348937034606934, 'eval_wups': 0.31825483951325817, 'eval_acc': 0.27105052125100243, 'eval_f1': 0.05864392289494496, 'eval_runtime': 24.7316, 'eval_samples_per_second': 100.843, 'eval_steps_per_second': 3.154, 'epoch': 2.8846153846153846}\n",
            "{'loss': 2.5285, 'grad_norm': 6.7410197257995605, 'learning_rate': 1.794871794871795e-05, 'epoch': 3.2051282051282053}\n",
            "{'eval_loss': 3.3586459159851074, 'eval_wups': 0.31780548590434626, 'eval_acc': 0.2714514835605453, 'eval_f1': 0.05292252900702981, 'eval_runtime': 25.4643, 'eval_samples_per_second': 97.941, 'eval_steps_per_second': 3.063, 'epoch': 3.2051282051282053}\n",
            "{'loss': 2.4729, 'grad_norm': 7.100038051605225, 'learning_rate': 1.4743589743589745e-05, 'epoch': 3.5256410256410255}\n",
            "{'eval_loss': 3.3652398586273193, 'eval_wups': 0.3167474201047709, 'eval_acc': 0.272654370489174, 'eval_f1': 0.05680577665134826, 'eval_runtime': 25.0195, 'eval_samples_per_second': 99.682, 'eval_steps_per_second': 3.118, 'epoch': 3.5256410256410255}\n",
            "{'loss': 2.5388, 'grad_norm': 7.4524102210998535, 'learning_rate': 1.153846153846154e-05, 'epoch': 3.8461538461538463}\n",
            "{'eval_loss': 3.348799705505371, 'eval_wups': 0.3185803625768541, 'eval_acc': 0.2738572574178027, 'eval_f1': 0.06270394794874849, 'eval_runtime': 25.2202, 'eval_samples_per_second': 98.889, 'eval_steps_per_second': 3.093, 'epoch': 3.8461538461538463}\n",
            "{'loss': 2.3944, 'grad_norm': 6.94819974899292, 'learning_rate': 8.333333333333334e-06, 'epoch': 4.166666666666667}\n",
            "{'eval_loss': 3.354109287261963, 'eval_wups': 0.317830823336935, 'eval_acc': 0.2718524458700882, 'eval_f1': 0.05845847729079348, 'eval_runtime': 25.1211, 'eval_samples_per_second': 99.279, 'eval_steps_per_second': 3.105, 'epoch': 4.166666666666667}\n",
            "{'loss': 2.3493, 'grad_norm': 7.0714497566223145, 'learning_rate': 5.128205128205128e-06, 'epoch': 4.487179487179487}\n",
            "{'eval_loss': 3.3557522296905518, 'eval_wups': 0.3190625244031862, 'eval_acc': 0.27506014434643145, 'eval_f1': 0.06156309285471401, 'eval_runtime': 24.9172, 'eval_samples_per_second': 100.091, 'eval_steps_per_second': 3.13, 'epoch': 4.487179487179487}\n",
            "{'loss': 2.4406, 'grad_norm': 6.539690017700195, 'learning_rate': 1.9230769230769234e-06, 'epoch': 4.8076923076923075}\n",
            "{'eval_loss': 3.3439748287200928, 'eval_wups': 0.32067677838398373, 'eval_acc': 0.27666399358460303, 'eval_f1': 0.06623782726146765, 'eval_runtime': 25.4139, 'eval_samples_per_second': 98.135, 'eval_steps_per_second': 3.069, 'epoch': 4.8076923076923075}\n",
            "{'train_runtime': 898.5146, 'train_samples_per_second': 55.503, 'train_steps_per_second': 1.736, 'train_loss': 2.701461987617688, 'epoch': 5.0}\n",
            "{'eval_loss': 3.3439748287200928, 'eval_wups': 0.32067677838398373, 'eval_acc': 0.27666399358460303, 'eval_f1': 0.06623782726146765, 'eval_runtime': 27.9222, 'eval_samples_per_second': 89.32, 'eval_steps_per_second': 2.793, 'epoch': 5.0}\n"
          ]
        }
      ]
    },
    {
      "cell_type": "markdown",
      "source": [
        "eps_per_second': 3.069, 'epoch': 4.8076923076923075}\n",
        "{'train_runtime': 898.5146, 'train_samples_per_second': 55.503, 'train_steps_per_second': 1.736, 'train_loss': 2.701461987617688, 'epoch': 5.0}\n",
        "{'eval_loss': 3.3439748287200928, 'eval_wups': 0.32067677838398373, 'eval_acc': 0.27666399358460303, 'eval_f1': 0.06623782726146765, 'eval_runtime': 27.9222, 'eval_samples_per_second': 89.32, 'eval_steps_per_second': 2.793, 'epoch': 5.0}"
      ],
      "metadata": {
        "id": "IdTVo5Nt8C0q"
      },
      "id": "IdTVo5Nt8C0q"
    },
    {
      "cell_type": "code",
      "source": [],
      "metadata": {
        "id": "h3EEf8r8sQIO"
      },
      "id": "h3EEf8r8sQIO",
      "execution_count": null,
      "outputs": []
    },
    {
      "cell_type": "code",
      "source": [
        "model_parameters = filter(lambda p: p.requires_grad, model.parameters())\n",
        "params = sum([np.prod(p.size()) for p in model_parameters])"
      ],
      "metadata": {
        "id": "lONOjFRgIHTI",
        "colab": {
          "base_uri": "https://localhost:8080/",
          "height": 159
        },
        "outputId": "5e83e796-8447-426a-8627-e7430f19fffc"
      },
      "id": "lONOjFRgIHTI",
      "execution_count": 1,
      "outputs": [
        {
          "output_type": "error",
          "ename": "NameError",
          "evalue": "name 'model' is not defined",
          "traceback": [
            "\u001b[0;31m---------------------------------------------------------------------------\u001b[0m",
            "\u001b[0;31mNameError\u001b[0m                                 Traceback (most recent call last)",
            "\u001b[0;32m<ipython-input-1-51017dd907f5>\u001b[0m in \u001b[0;36m<cell line: 0>\u001b[0;34m()\u001b[0m\n\u001b[0;32m----> 1\u001b[0;31m \u001b[0mmodel_parameters\u001b[0m \u001b[0;34m=\u001b[0m \u001b[0mfilter\u001b[0m\u001b[0;34m(\u001b[0m\u001b[0;32mlambda\u001b[0m \u001b[0mp\u001b[0m\u001b[0;34m:\u001b[0m \u001b[0mp\u001b[0m\u001b[0;34m.\u001b[0m\u001b[0mrequires_grad\u001b[0m\u001b[0;34m,\u001b[0m \u001b[0mmodel\u001b[0m\u001b[0;34m.\u001b[0m\u001b[0mparameters\u001b[0m\u001b[0;34m(\u001b[0m\u001b[0;34m)\u001b[0m\u001b[0;34m)\u001b[0m\u001b[0;34m\u001b[0m\u001b[0;34m\u001b[0m\u001b[0m\n\u001b[0m\u001b[1;32m      2\u001b[0m \u001b[0mparams\u001b[0m \u001b[0;34m=\u001b[0m \u001b[0msum\u001b[0m\u001b[0;34m(\u001b[0m\u001b[0;34m[\u001b[0m\u001b[0mnp\u001b[0m\u001b[0;34m.\u001b[0m\u001b[0mprod\u001b[0m\u001b[0;34m(\u001b[0m\u001b[0mp\u001b[0m\u001b[0;34m.\u001b[0m\u001b[0msize\u001b[0m\u001b[0;34m(\u001b[0m\u001b[0;34m)\u001b[0m\u001b[0;34m)\u001b[0m \u001b[0;32mfor\u001b[0m \u001b[0mp\u001b[0m \u001b[0;32min\u001b[0m \u001b[0mmodel_parameters\u001b[0m\u001b[0;34m]\u001b[0m\u001b[0;34m)\u001b[0m\u001b[0;34m\u001b[0m\u001b[0;34m\u001b[0m\u001b[0m\n",
            "\u001b[0;31mNameError\u001b[0m: name 'model' is not defined"
          ]
        }
      ]
    },
    {
      "cell_type": "code",
      "source": [
        "params"
      ],
      "metadata": {
        "colab": {
          "base_uri": "https://localhost:8080/"
        },
        "id": "MirG_pvxpT1m",
        "outputId": "f98c9410-b452-4932-e6b8-214d01ea2172"
      },
      "id": "MirG_pvxpT1m",
      "execution_count": null,
      "outputs": [
        {
          "output_type": "execute_result",
          "data": {
            "text/plain": [
              "np.int64(196956998)"
            ]
          },
          "metadata": {},
          "execution_count": 23
        }
      ]
    },
    {
      "cell_type": "code",
      "source": [
        "!ls /content/checkpoint/checkpoint-1560\n",
        "\n"
      ],
      "metadata": {
        "colab": {
          "base_uri": "https://localhost:8080/"
        },
        "id": "N-uVQch11uFL",
        "outputId": "56cd0851-9b5b-4c8b-de86-5e85f578c34d"
      },
      "id": "N-uVQch11uFL",
      "execution_count": null,
      "outputs": [
        {
          "output_type": "stream",
          "name": "stdout",
          "text": [
            "model.safetensors  scaler.pt\t\t    tokenizer_config.json  training_args.bin\n",
            "optimizer.pt\t   scheduler.pt\t\t    tokenizer.json\t   vocab.txt\n",
            "rng_state.pth\t   special_tokens_map.json  trainer_state.json\n"
          ]
        }
      ]
    },
    {
      "cell_type": "code",
      "source": [
        "!ls /content/checkpoint/checkpoint-1500\n"
      ],
      "metadata": {
        "colab": {
          "base_uri": "https://localhost:8080/"
        },
        "id": "M3j4P6Dr_uVy",
        "outputId": "565afe57-4156-41d2-b4dc-3c3bbf168462"
      },
      "id": "M3j4P6Dr_uVy",
      "execution_count": null,
      "outputs": [
        {
          "output_type": "stream",
          "name": "stdout",
          "text": [
            "model.safetensors  scaler.pt\t\t    tokenizer_config.json  training_args.bin\n",
            "optimizer.pt\t   scheduler.pt\t\t    tokenizer.json\t   vocab.txt\n",
            "rng_state.pth\t   special_tokens_map.json  trainer_state.json\n"
          ]
        }
      ]
    },
    {
      "cell_type": "code",
      "source": [
        "ls /content/checkpoint/checkpoint-1000"
      ],
      "metadata": {
        "colab": {
          "base_uri": "https://localhost:8080/"
        },
        "id": "9iJaWSUCnh5v",
        "outputId": "e8744ec2-a286-4bbf-f6eb-d6c487f6f08e"
      },
      "id": "9iJaWSUCnh5v",
      "execution_count": null,
      "outputs": [
        {
          "output_type": "stream",
          "name": "stdout",
          "text": [
            "ls: cannot access '/content/checkpoint/checkpoint-1000': No such file or directory\n"
          ]
        }
      ]
    },
    {
      "cell_type": "code",
      "source": [
        "!pip install safetensors\n",
        "\n"
      ],
      "metadata": {
        "colab": {
          "base_uri": "https://localhost:8080/"
        },
        "id": "h9iDHjTEDajd",
        "outputId": "baa17f3b-abee-4147-dc68-6be536ecdd81"
      },
      "id": "h9iDHjTEDajd",
      "execution_count": null,
      "outputs": [
        {
          "output_type": "stream",
          "name": "stdout",
          "text": [
            "Requirement already satisfied: safetensors in /usr/local/lib/python3.11/dist-packages (0.5.3)\n"
          ]
        }
      ]
    },
    {
      "cell_type": "markdown",
      "source": [],
      "metadata": {
        "id": "Z3MN-z8wa1Km"
      },
      "id": "Z3MN-z8wa1Km"
    },
    {
      "cell_type": "code",
      "source": [
        "!ls /content/checkpoint"
      ],
      "metadata": {
        "colab": {
          "base_uri": "https://localhost:8080/"
        },
        "id": "cuPGIWNBmu4g",
        "outputId": "2d035072-f1c1-47c1-dbcf-315209828378"
      },
      "id": "cuPGIWNBmu4g",
      "execution_count": null,
      "outputs": [
        {
          "output_type": "stream",
          "name": "stdout",
          "text": [
            "checkpoint-1400  checkpoint-1500  checkpoint-1560  runs\n"
          ]
        }
      ]
    },
    {
      "cell_type": "code",
      "source": [
        "import os\n",
        "print(os.path.exists(\"/content/checkpoint/checkpoint-16/model.safetensors\"))\n"
      ],
      "metadata": {
        "id": "SceX9h-ba00U",
        "colab": {
          "base_uri": "https://localhost:8080/"
        },
        "outputId": "d06258b6-0c95-4536-fe9f-523416c6fbe4"
      },
      "id": "SceX9h-ba00U",
      "execution_count": null,
      "outputs": [
        {
          "output_type": "stream",
          "name": "stdout",
          "text": [
            "False\n"
          ]
        }
      ]
    },
    {
      "cell_type": "markdown",
      "source": [],
      "metadata": {
        "id": "6EpIxwGhbGBo"
      },
      "id": "6EpIxwGhbGBo"
    },
    {
      "cell_type": "markdown",
      "source": [
        "Use any of the saved model checkpoints for QA dialogue.\n",
        "The question must be tokenized, and image features must be extracted appropriately (as done in the collator). These would serve as input to the model, with weights loaded from the trained checkpoint. The label predicted by the model is then mapped to the index of the actual answer in the answer space."
      ],
      "metadata": {
        "id": "H3ou_vnxa18g"
      },
      "id": "H3ou_vnxa18g"
    },
    {
      "cell_type": "code",
      "execution_count": null,
      "id": "csR5q77mgCzR",
      "metadata": {
        "colab": {
          "base_uri": "https://localhost:8080/"
        },
        "id": "csR5q77mgCzR",
        "outputId": "d6e2aa4e-fc9f-4c6e-daf8-242c0ddea96c"
      },
      "outputs": [
        {
          "output_type": "stream",
          "name": "stderr",
          "text": [
            "/usr/local/lib/python3.11/dist-packages/transformers/models/vit/feature_extraction_vit.py:28: FutureWarning: The class ViTFeatureExtractor is deprecated and will be removed in version 5 of Transformers. Please use ViTImageProcessor instead.\n",
            "  warnings.warn(\n"
          ]
        },
        {
          "output_type": "stream",
          "name": "stdout",
          "text": [
            "Predicted Answer: white\n"
          ]
        }
      ],
      "source": [
        "import os\n",
        "import torch\n",
        "import transformers\n",
        "from PIL import Image\n",
        "from typing import List, Dict\n",
        "from safetensors.torch import load_file\n",
        "\n",
        "'''\n",
        "def loadAnswerSpace() -> List[str]:\n",
        "    path = os.path.join(\"dataset\", \"answer_space.txt\")\n",
        "    if not os.path.exists(path):\n",
        "        raise FileNotFoundError(f\"Answer space file not found at: {path}\")\n",
        "    with open(path) as f:\n",
        "        answer_space = f.read().splitlines()\n",
        "    return answer_space\n",
        "'''\n",
        "def loadAnswerSpace() -> List[str]:\n",
        "    base_dir = \"/content/drive/MyDrive/FinalProject/dataset\"\n",
        "    path = os.path.join(base_dir, \"answer_space.txt\")\n",
        "    if not os.path.exists(path):\n",
        "        raise FileNotFoundError(f\"Answer space file not found at: {path}\")\n",
        "    with open(path, encoding=\"utf-8\") as f:\n",
        "        answer_space = f.read().splitlines()\n",
        "    return answer_space\n",
        "\n",
        "def tokenizeQuestion(text_encoder, question, device) -> Dict:\n",
        "    tokenizer = transformers.AutoTokenizer.from_pretrained(text_encoder)\n",
        "    encoded_text = tokenizer(\n",
        "        text=[question],\n",
        "        padding='longest',\n",
        "        max_length=24,\n",
        "        truncation=True,\n",
        "        return_tensors='pt',\n",
        "        return_token_type_ids=True,\n",
        "        return_attention_mask=True,\n",
        "    )\n",
        "    return {\n",
        "        \"input_ids\": encoded_text['input_ids'].to(device),\n",
        "        \"token_type_ids\": encoded_text['token_type_ids'].to(device),\n",
        "        \"attention_mask\": encoded_text['attention_mask'].to(device),\n",
        "    }\n",
        "\n",
        "def featurizeImage(image_encoder, img_path, device) -> Dict:\n",
        "    featurizer = transformers.AutoFeatureExtractor.from_pretrained(image_encoder)\n",
        "    processed_images = featurizer(\n",
        "        images=[Image.open(img_path).convert('RGB')],\n",
        "        return_tensors=\"pt\",\n",
        "    )\n",
        "    return {\n",
        "        \"pixel_values\": processed_images['pixel_values'].to(device),\n",
        "    }\n",
        "\n",
        "# Example usage (make sure these variables are defined in your script)\n",
        "question = \"What is the color of the chair in front of the white wall?\"\n",
        "img_path = \"/content/drive/MyDrive/FinalProject/dataset/images/image3.png\"\n",
        "# img_path = \"dataset/images/image100.png\"\n",
        "\n",
        "# Load the vocabulary of all answers\n",
        "answer_space = loadAnswerSpace()\n",
        "\n",
        "# Tokenize the question & featurize the image\n",
        "question = question.lower().replace(\"?\", \"\").strip()\n",
        "tokenized_question = tokenizeQuestion(\"bert-base-uncased\", question, device)\n",
        "featurized_img = featurizeImage(\"google/vit-base-patch16-224-in21k\", img_path, device)\n",
        "\n",
        "# Load the model checkpoint (example)\n",
        "model = MultimodalVQAModel(\n",
        "    pretrained_text_name=\"bert-base-uncased\",\n",
        "    pretrained_image_name=\"facebook/deit-base-patch16-224\",\n",
        "    num_labels=len(answer_space),\n",
        "    intermediate_dim=512\n",
        ")\n",
        "\n",
        "#checkpoint = \"/content/drive/MyDrive/FinalProject/checkpoint/checkpoint-1500/pytorch_model.bin\"\n",
        "checkpoint_path = \"/content/checkpoint/checkpoint-1560/model.safetensors\"\n",
        "#model.load_state_dict(torch.load(checkpoint, map_location=device))\n",
        "#checkpoint = os.path.join(\"checkpoint\", \"checkpoint-1500\", \"pytorch_model.bin\")\n",
        "#model.load_state_dict(torch.load(checkpoint))\n",
        "model.load_state_dict(load_file(checkpoint_path, device=str(device)))\n",
        "model.to(device)\n",
        "model.eval()\n",
        "\n",
        "# Get the model's prediction\n",
        "input_ids = tokenized_question[\"input_ids\"]\n",
        "token_type_ids = tokenized_question[\"token_type_ids\"]\n",
        "attention_mask = tokenized_question[\"attention_mask\"]\n",
        "pixel_values = featurized_img[\"pixel_values\"]\n",
        "\n",
        "output = model(input_ids, pixel_values, attention_mask, token_type_ids)\n",
        "\n",
        "# Map prediction to answer\n",
        "preds = output[\"logits\"].argmax(axis=-1).cpu().numpy()\n",
        "answer = answer_space[preds[0]]\n",
        "print(\"Predicted Answer:\", answer)\n"
      ]
    },
    {
      "cell_type": "code",
      "execution_count": null,
      "id": "QCxND_1FfeqQ",
      "metadata": {
        "id": "QCxND_1FfeqQ"
      },
      "outputs": [],
      "source": [
        "from typing import List, Dict\n",
        "import os\n",
        "import torch\n",
        "import transformers\n",
        "from PIL import Image\n"
      ]
    },
    {
      "cell_type": "code",
      "source": [
        "!ls //content/drive/MyDrive/FinalProject/dataset"
      ],
      "metadata": {
        "id": "zZBAeajXSnnb"
      },
      "id": "zZBAeajXSnnb",
      "execution_count": null,
      "outputs": []
    },
    {
      "cell_type": "code",
      "execution_count": null,
      "id": "u88qCqaxRgF9",
      "metadata": {
        "id": "u88qCqaxRgF9"
      },
      "outputs": [],
      "source": []
    }
  ],
  "metadata": {
    "colab": {
      "provenance": [],
      "include_colab_link": true
    },
    "kernelspec": {
      "display_name": "Python (myenv)",
      "language": "python",
      "name": "myenv"
    },
    "language_info": {
      "codemirror_mode": {
        "name": "ipython",
        "version": 3
      },
      "file_extension": ".py",
      "mimetype": "text/x-python",
      "name": "python",
      "nbconvert_exporter": "python",
      "pygments_lexer": "ipython3",
      "version": "3.9.1"
    }
  },
  "nbformat": 4,
  "nbformat_minor": 5
}